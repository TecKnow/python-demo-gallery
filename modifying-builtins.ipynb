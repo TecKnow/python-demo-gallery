{
 "cells": [
  {
   "cell_type": "markdown",
   "id": "d62d7de7",
   "metadata": {},
   "source": [
    "# Modifying Python built ins\n"
   ]
  },
  {
   "cell_type": "markdown",
   "id": "29331267",
   "metadata": {},
   "source": [
    "## Tuples\n"
   ]
  },
  {
   "cell_type": "code",
   "execution_count": 1,
   "id": "8845cb02",
   "metadata": {
    "tags": [
     "raises-exception"
    ]
   },
   "outputs": [
    {
     "ename": "TypeError",
     "evalue": "cannot set '__add__' attribute of immutable type 'tuple'",
     "output_type": "error",
     "traceback": [
      "\u001b[0;31m---------------------------------------------------------------------------\u001b[0m",
      "\u001b[0;31mTypeError\u001b[0m                                 Traceback (most recent call last)",
      "Cell \u001b[0;32mIn[1], line 9\u001b[0m\n\u001b[1;32m      5\u001b[0m     \u001b[38;5;28mprint\u001b[39m(\u001b[38;5;124m\"\u001b[39m\u001b[38;5;124mUsing new add function\u001b[39m\u001b[38;5;124m\"\u001b[39m)\n\u001b[1;32m      6\u001b[0m     \u001b[38;5;28;01mreturn\u001b[39;00m _original_add(\u001b[38;5;241m*\u001b[39margs, \u001b[38;5;241m*\u001b[39m\u001b[38;5;241m*\u001b[39mkwargs)\n\u001b[0;32m----> 9\u001b[0m \u001b[38;5;28;43mtuple\u001b[39;49m\u001b[38;5;241;43m.\u001b[39;49m\u001b[38;5;21;43m__add__\u001b[39;49m \u001b[38;5;241m=\u001b[39m new_add\n",
      "\u001b[0;31mTypeError\u001b[0m: cannot set '__add__' attribute of immutable type 'tuple'"
     ]
    }
   ],
   "source": [
    "_original_add = tuple.__add__\n",
    "\n",
    "\n",
    "def new_add(*args, **kwargs):\n",
    "    print(\"Using new add function\")\n",
    "    return _original_add(*args, **kwargs)\n",
    "\n",
    "\n",
    "tuple.__add__ = new_add"
   ]
  },
  {
   "cell_type": "markdown",
   "id": "8e7586a3",
   "metadata": {},
   "source": [
    "## Strings\n"
   ]
  },
  {
   "cell_type": "code",
   "execution_count": 2,
   "id": "69f8a355",
   "metadata": {
    "tags": [
     "raises-exception"
    ]
   },
   "outputs": [
    {
     "ename": "TypeError",
     "evalue": "cannot set '__add__' attribute of immutable type 'str'",
     "output_type": "error",
     "traceback": [
      "\u001b[0;31m---------------------------------------------------------------------------\u001b[0m",
      "\u001b[0;31mTypeError\u001b[0m                                 Traceback (most recent call last)",
      "Cell \u001b[0;32mIn[2], line 9\u001b[0m\n\u001b[1;32m      5\u001b[0m     \u001b[38;5;28mprint\u001b[39m(\u001b[38;5;124m\"\u001b[39m\u001b[38;5;124mUsing new add function\u001b[39m\u001b[38;5;124m\"\u001b[39m)\n\u001b[1;32m      6\u001b[0m     \u001b[38;5;28;01mreturn\u001b[39;00m _original_add(\u001b[38;5;241m*\u001b[39margs, \u001b[38;5;241m*\u001b[39m\u001b[38;5;241m*\u001b[39mkwargs)\n\u001b[0;32m----> 9\u001b[0m \u001b[38;5;28;43mstr\u001b[39;49m\u001b[38;5;241;43m.\u001b[39;49m\u001b[38;5;21;43m__add__\u001b[39;49m \u001b[38;5;241m=\u001b[39m new_add\n",
      "\u001b[0;31mTypeError\u001b[0m: cannot set '__add__' attribute of immutable type 'str'"
     ]
    }
   ],
   "source": [
    "_original_add = str.__add__\n",
    "\n",
    "\n",
    "def new_add(*args, **kwargs):\n",
    "    print(\"Using new add function\")\n",
    "    return _original_add(*args, **kwargs)\n",
    "\n",
    "\n",
    "str.__add__ = new_add"
   ]
  },
  {
   "cell_type": "markdown",
   "id": "870acbf4",
   "metadata": {},
   "source": [
    "## Lists\n"
   ]
  },
  {
   "cell_type": "code",
   "execution_count": 3,
   "id": "ceeb89a6",
   "metadata": {
    "tags": [
     "raises-exception"
    ]
   },
   "outputs": [
    {
     "ename": "TypeError",
     "evalue": "cannot set '__add__' attribute of immutable type 'list'",
     "output_type": "error",
     "traceback": [
      "\u001b[0;31m---------------------------------------------------------------------------\u001b[0m",
      "\u001b[0;31mTypeError\u001b[0m                                 Traceback (most recent call last)",
      "Cell \u001b[0;32mIn[3], line 9\u001b[0m\n\u001b[1;32m      5\u001b[0m     \u001b[38;5;28mprint\u001b[39m(\u001b[38;5;124m\"\u001b[39m\u001b[38;5;124mUsing new add function\u001b[39m\u001b[38;5;124m\"\u001b[39m)\n\u001b[1;32m      6\u001b[0m     \u001b[38;5;28;01mreturn\u001b[39;00m _original_add(\u001b[38;5;241m*\u001b[39margs, \u001b[38;5;241m*\u001b[39m\u001b[38;5;241m*\u001b[39mkwargs)\n\u001b[0;32m----> 9\u001b[0m \u001b[38;5;28;43mlist\u001b[39;49m\u001b[38;5;241;43m.\u001b[39;49m\u001b[38;5;21;43m__add__\u001b[39;49m \u001b[38;5;241m=\u001b[39m new_add\n",
      "\u001b[0;31mTypeError\u001b[0m: cannot set '__add__' attribute of immutable type 'list'"
     ]
    }
   ],
   "source": [
    "_original_add = list.__add__\n",
    "\n",
    "\n",
    "def new_add(*args, **kwargs):\n",
    "    print(\"Using new add function\")\n",
    "    return _original_add(*args, **kwargs)\n",
    "\n",
    "\n",
    "list.__add__ = new_add"
   ]
  },
  {
   "cell_type": "markdown",
   "id": "641cf485",
   "metadata": {},
   "source": [
    "## User types\n"
   ]
  },
  {
   "cell_type": "code",
   "execution_count": 4,
   "id": "feb7f327",
   "metadata": {},
   "outputs": [],
   "source": [
    "class homespun_class():\n",
    "    def __init__(self):\n",
    "        pass\n",
    "\n",
    "    def __add__(self, other):\n",
    "        print(\"Using original add\")\n",
    "        return other"
   ]
  },
  {
   "cell_type": "code",
   "execution_count": 5,
   "id": "ef66c04c",
   "metadata": {},
   "outputs": [],
   "source": [
    "_original_add = homespun_class.__add__\n",
    "\n",
    "\n",
    "def new_add(*args, **kwargs):\n",
    "    print(\"Using new add function\")\n",
    "    return _original_add(*args, **kwargs)\n",
    "\n",
    "\n",
    "homespun_class.__add__ = new_add"
   ]
  },
  {
   "cell_type": "code",
   "execution_count": 6,
   "id": "d9b3e9af",
   "metadata": {},
   "outputs": [
    {
     "name": "stdout",
     "output_type": "stream",
     "text": [
      "Using new add function\n",
      "Using original add\n",
      "my_object + 0=0\n"
     ]
    }
   ],
   "source": [
    "my_object = homespun_class()\n",
    "print(f\"{my_object + 0=}\")"
   ]
  }
 ],
 "metadata": {
  "kernelspec": {
   "display_name": ".env",
   "language": "python",
   "name": "python3"
  },
  "language_info": {
   "codemirror_mode": {
    "name": "ipython",
    "version": 3
   },
   "file_extension": ".py",
   "mimetype": "text/x-python",
   "name": "python",
   "nbconvert_exporter": "python",
   "pygments_lexer": "ipython3",
   "version": "3.12.3"
  }
 },
 "nbformat": 4,
 "nbformat_minor": 5
}
