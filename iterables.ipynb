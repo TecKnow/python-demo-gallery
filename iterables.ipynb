{
 "cells": [
  {
   "cell_type": "markdown",
   "metadata": {},
   "source": [
    "# Iteration in Python\n"
   ]
  },
  {
   "cell_type": "markdown",
   "metadata": {},
   "source": [
    "## The StopIteration exception"
   ]
  },
  {
   "cell_type": "markdown",
   "metadata": {},
   "source": [
    "When Python genrators are described it's common to say that they signal when they are exhausted - meaning finished or empty - by riasing a **StopIteration** exception.  It might seem reasonable to assume that the **StopIteration** exception is what actually breaks Python out of a loop and that we could do this manually.  Does this work?"
   ]
  },
  {
   "cell_type": "markdown",
   "metadata": {},
   "source": [
    "### StopIteration in for loops"
   ]
  },
  {
   "cell_type": "code",
   "execution_count": 1,
   "metadata": {
    "tags": [
     "raises-exception"
    ]
   },
   "outputs": [
    {
     "name": "stdout",
     "output_type": "stream",
     "text": [
      "0\n",
      "1\n",
      "2\n",
      "3\n",
      "4\n",
      "5\n",
      "6\n",
      "7\n"
     ]
    },
    {
     "ename": "StopIteration",
     "evalue": "Trying to manually escape a for loop",
     "output_type": "error",
     "traceback": [
      "\u001b[0;31m---------------------------------------------------------------------------\u001b[0m",
      "\u001b[0;31mStopIteration\u001b[0m                             Traceback (most recent call last)",
      "Cell \u001b[0;32mIn[1], line 4\u001b[0m\n\u001b[1;32m      2\u001b[0m     \u001b[38;5;28mprint\u001b[39m(x)\n\u001b[1;32m      3\u001b[0m     \u001b[38;5;28;01mif\u001b[39;00m x \u001b[38;5;241m==\u001b[39m \u001b[38;5;241m7\u001b[39m:\n\u001b[0;32m----> 4\u001b[0m         \u001b[38;5;28;01mraise\u001b[39;00m \u001b[38;5;167;01mStopIteration\u001b[39;00m(\u001b[38;5;124m\"\u001b[39m\u001b[38;5;124mTrying to manually escape a for loop\u001b[39m\u001b[38;5;124m\"\u001b[39m)\n\u001b[1;32m      5\u001b[0m \u001b[38;5;28mprint\u001b[39m(\u001b[38;5;124m\"\u001b[39m\u001b[38;5;124mThis statement is outside the loop\u001b[39m\u001b[38;5;124m\"\u001b[39m)\n",
      "\u001b[0;31mStopIteration\u001b[0m: Trying to manually escape a for loop"
     ]
    }
   ],
   "source": [
    "for x in range(10):\n",
    "    print(x)\n",
    "    if x == 7:\n",
    "        raise StopIteration(\"Trying to manually escape a for loop\")\n",
    "print(\"This statement is outside the loop\")"
   ]
  },
  {
   "cell_type": "markdown",
   "metadata": {},
   "source": [
    "#### Results\n",
    "Here is what I see on my machine when I run the code above.\n",
    "```python traceback\n",
    "---------------------------------------------------------------------------\n",
    "StopIteration                             Traceback (most recent call last)\n",
    "Cell In[1], line 4\n",
    "      2     print(x)\n",
    "      3     if x == 7:\n",
    "----> 4         raise StopIteration(\"Trying to manually escape a for loop\")\n",
    "      5 print(\"This statement is outside the loop\")\n",
    "\n",
    "StopIteration: Trying to manually escape a for loop\n",
    "```"
   ]
  },
  {
   "cell_type": "markdown",
   "metadata": {},
   "source": [
    "#### Why doesn't this work?"
   ]
  },
  {
   "cell_type": "markdown",
   "metadata": {},
   "source": [
    "Raising a **StopIteration** exception inside the body of a **for** loop doesn't work as a way to break out of the loop because the body of the loop is not a part of the iterator.  The Python interpreter isn't watching it to catch and handle **StopIteration** in a special way, so it's just an regular uncaught exception.\n",
    "\n",
    "In the example **for** loop above, it's the **range()** object that's being iterated over.  Specifically, the results of calling `iter(range(10))`.  The body of the **for** loop is just regular Python code."
   ]
  },
  {
   "cell_type": "markdown",
   "metadata": {},
   "source": [
    "### StopIteration in generators"
   ]
  },
  {
   "cell_type": "markdown",
   "metadata": {},
   "source": [
    "So we can't use **StopIteration** exceptions to break out of **for** loops, because the loop body isn't an iterator.  But Python generators create iterators, can we us them there?"
   ]
  },
  {
   "cell_type": "code",
   "execution_count": 2,
   "metadata": {},
   "outputs": [],
   "source": [
    "def my_generator():\n",
    "    i = 0\n",
    "    while True:\n",
    "        yield i\n",
    "        i += 1\n",
    "        if i == 7:\n",
    "            raise StopIteration(\"Trying to escape a generator\")"
   ]
  },
  {
   "cell_type": "code",
   "execution_count": 3,
   "metadata": {
    "tags": [
     "raises-exception"
    ]
   },
   "outputs": [
    {
     "name": "stdout",
     "output_type": "stream",
     "text": [
      "0\n",
      "1\n",
      "2\n",
      "3\n",
      "4\n",
      "5\n",
      "6\n"
     ]
    },
    {
     "ename": "RuntimeError",
     "evalue": "generator raised StopIteration",
     "output_type": "error",
     "traceback": [
      "\u001b[0;31m---------------------------------------------------------------------------\u001b[0m",
      "\u001b[0;31mStopIteration\u001b[0m                             Traceback (most recent call last)",
      "Cell \u001b[0;32mIn[2], line 7\u001b[0m, in \u001b[0;36mmy_generator\u001b[0;34m()\u001b[0m\n\u001b[1;32m      6\u001b[0m \u001b[38;5;28;01mif\u001b[39;00m i \u001b[38;5;241m==\u001b[39m \u001b[38;5;241m7\u001b[39m:\n\u001b[0;32m----> 7\u001b[0m     \u001b[38;5;28;01mraise\u001b[39;00m \u001b[38;5;167;01mStopIteration\u001b[39;00m(\u001b[38;5;124m\"\u001b[39m\u001b[38;5;124mTrying to escape a generator\u001b[39m\u001b[38;5;124m\"\u001b[39m)\n",
      "\u001b[0;31mStopIteration\u001b[0m: Trying to escape a generator",
      "\nThe above exception was the direct cause of the following exception:\n",
      "\u001b[0;31mRuntimeError\u001b[0m                              Traceback (most recent call last)",
      "Cell \u001b[0;32mIn[3], line 1\u001b[0m\n\u001b[0;32m----> 1\u001b[0m \u001b[38;5;28;43;01mfor\u001b[39;49;00m\u001b[43m \u001b[49m\u001b[43mx\u001b[49m\u001b[43m \u001b[49m\u001b[38;5;129;43;01min\u001b[39;49;00m\u001b[43m \u001b[49m\u001b[43mmy_generator\u001b[49m\u001b[43m(\u001b[49m\u001b[43m)\u001b[49m\u001b[43m:\u001b[49m\n\u001b[1;32m      2\u001b[0m \u001b[43m    \u001b[49m\u001b[38;5;28;43mprint\u001b[39;49m\u001b[43m(\u001b[49m\u001b[43mx\u001b[49m\u001b[43m)\u001b[49m\n",
      "\u001b[0;31mRuntimeError\u001b[0m: generator raised StopIteration"
     ]
    }
   ],
   "source": [
    "for x in my_generator():\n",
    "    print(x)"
   ]
  },
  {
   "cell_type": "markdown",
   "metadata": {},
   "source": [
    "#### Results\n",
    "Here is the output of the above code on my machine.\n",
    "\n",
    "```python traceback\n",
    "---------------------------------------------------------------------------\n",
    "StopIteration                             Traceback (most recent call last)\n",
    "Cell In[193], line 7\n",
    "      6 if i == 7:\n",
    "----> 7     raise StopIteration(\"Trying to escape a generator\")\n",
    "\n",
    "StopIteration: Trying to escape a generator\n",
    "\n",
    "The above exception was the direct cause of the following exception:\n",
    "\n",
    "RuntimeError                              Traceback (most recent call last)\n",
    "Cell In[194], line 1\n",
    "----> 1 for x in my_generator():\n",
    "      2     print(x)\n",
    "\n",
    "RuntimeError: generator raised StopIteration\n",
    "```"
   ]
  },
  {
   "cell_type": "markdown",
   "metadata": {},
   "source": [
    "This **RuntimeError** is the result of [PEP 479](https://peps.python.org/pep-0479/).  Very briefly, in practice when it looks like code is raising **StopIteration** exceptions manually it's usually a bug.  When generators handle these exceptions automatically by silently ending without errors, it makes what would otherwise be the highly-visible problem of an unhandled exception into a mostly invisible one."
   ]
  },
  {
   "cell_type": "markdown",
   "metadata": {},
   "source": [
    "#### StopIteration in custom iterable classes\n",
    "So, if we can't manually use **StopIteration** exceptions inside loop bodies or generators, where can we use them?  Where do we implement the Python iterator protocol in the most manual possible way?\n",
    "\n",
    "Classes can define special methods to participate in the interator protocol, and that's where you'd raise **StopIteration** exceptions yourself."
   ]
  },
  {
   "cell_type": "code",
   "execution_count": 4,
   "metadata": {},
   "outputs": [],
   "source": [
    "class CustomIterable:\n",
    "\n",
    "    def __init__(self):\n",
    "        self.i = 0\n",
    "\n",
    "    def __iter__(self):\n",
    "        return self\n",
    "\n",
    "    def __next__(self):\n",
    "        current_value = self.i\n",
    "        self.i += 1\n",
    "        if current_value >= 8:\n",
    "            raise StopIteration(\"Escaping custom iterable with an exception\")\n",
    "        return current_value"
   ]
  },
  {
   "cell_type": "code",
   "execution_count": 5,
   "metadata": {},
   "outputs": [
    {
     "name": "stdout",
     "output_type": "stream",
     "text": [
      "0\n",
      "1\n",
      "2\n",
      "3\n",
      "4\n",
      "5\n",
      "6\n",
      "7\n"
     ]
    }
   ],
   "source": [
    "for x in CustomIterable():\n",
    "    print(x)"
   ]
  },
  {
   "cell_type": "markdown",
   "metadata": {},
   "source": [
    "## Range objects\n"
   ]
  },
  {
   "cell_type": "code",
   "execution_count": 6,
   "metadata": {},
   "outputs": [],
   "source": [
    "my_range = range(10)"
   ]
  },
  {
   "cell_type": "code",
   "execution_count": 7,
   "metadata": {},
   "outputs": [
    {
     "name": "stdout",
     "output_type": "stream",
     "text": [
      "<class 'range'>\n"
     ]
    }
   ],
   "source": [
    "print(type(my_range))"
   ]
  },
  {
   "cell_type": "code",
   "execution_count": 8,
   "metadata": {},
   "outputs": [
    {
     "name": "stdout",
     "output_type": "stream",
     "text": [
      "range(0, 10)\n"
     ]
    }
   ],
   "source": [
    "print(my_range)"
   ]
  },
  {
   "cell_type": "code",
   "execution_count": 9,
   "metadata": {},
   "outputs": [
    {
     "name": "stdout",
     "output_type": "stream",
     "text": [
      "[0, 1, 2, 3, 4, 5, 6, 7, 8, 9]\n"
     ]
    }
   ],
   "source": [
    "print(list(my_range))"
   ]
  },
  {
   "cell_type": "code",
   "execution_count": 10,
   "metadata": {},
   "outputs": [
    {
     "name": "stdout",
     "output_type": "stream",
     "text": [
      "2\n"
     ]
    }
   ],
   "source": [
    "print(my_range[2])"
   ]
  },
  {
   "cell_type": "code",
   "execution_count": 11,
   "metadata": {},
   "outputs": [],
   "source": [
    "import collections.abc"
   ]
  },
  {
   "cell_type": "code",
   "execution_count": 12,
   "metadata": {},
   "outputs": [
    {
     "name": "stdout",
     "output_type": "stream",
     "text": [
      "Are ranges iterables? True\n",
      "Are ranges iterators?  False\n"
     ]
    }
   ],
   "source": [
    "print(f\"Are ranges iterables? {isinstance(\n",
    "    my_range, collections.abc.Iterable)}\")\n",
    "print(f\"Are ranges iterators?  {isinstance(\n",
    "    my_range, collections.abc.Iterator)}\")"
   ]
  },
  {
   "cell_type": "code",
   "execution_count": 13,
   "metadata": {},
   "outputs": [
    {
     "name": "stdout",
     "output_type": "stream",
     "text": [
      "Does calling iter() on a range return the same object each time? False\n"
     ]
    }
   ],
   "source": [
    "print(f\"Does calling iter() on a range return the same object each time? {\n",
    "      iter(my_range) == iter(my_range)}\")"
   ]
  },
  {
   "cell_type": "code",
   "execution_count": 14,
   "metadata": {},
   "outputs": [],
   "source": [
    "my_generator_expression = (x for x in range(10))"
   ]
  },
  {
   "cell_type": "code",
   "execution_count": 15,
   "metadata": {},
   "outputs": [
    {
     "name": "stdout",
     "output_type": "stream",
     "text": [
      "<class 'generator'>\n"
     ]
    }
   ],
   "source": [
    "print(type(my_generator_expression))"
   ]
  },
  {
   "cell_type": "code",
   "execution_count": 16,
   "metadata": {},
   "outputs": [
    {
     "name": "stdout",
     "output_type": "stream",
     "text": [
      "'generator' object is not subscriptable\n"
     ]
    }
   ],
   "source": [
    "try:\n",
    "    print(my_generator_expression[0])\n",
    "except TypeError as e:\n",
    "    print(e)"
   ]
  },
  {
   "cell_type": "code",
   "execution_count": 17,
   "metadata": {},
   "outputs": [
    {
     "name": "stdout",
     "output_type": "stream",
     "text": [
      "Are generators iterables? True\n",
      "Are ranges iterators?  True\n"
     ]
    }
   ],
   "source": [
    "print(f\"Are generators iterables? {isinstance(\n",
    "    my_generator_expression, collections.abc.Iterable)}\")\n",
    "print(f\"Are ranges iterators?  {isinstance(\n",
    "    my_generator_expression, collections.abc.Iterator)}\")"
   ]
  },
  {
   "cell_type": "code",
   "execution_count": 18,
   "metadata": {},
   "outputs": [
    {
     "name": "stdout",
     "output_type": "stream",
     "text": [
      "Does calling iter() on a generator return the same object each time? True\n"
     ]
    }
   ],
   "source": [
    "print(f\"Does calling iter() on a generator return the same object each time? {\n",
    "      iter(my_generator_expression) == iter(my_generator_expression)}\")"
   ]
  },
  {
   "cell_type": "code",
   "execution_count": 19,
   "metadata": {},
   "outputs": [
    {
     "name": "stdout",
     "output_type": "stream",
     "text": [
      "Does calling iter() on a generator just return itself? True\n"
     ]
    }
   ],
   "source": [
    "print(f\"Does calling iter() on a generator just return itself? {\n",
    "      iter(my_generator_expression) == my_generator_expression}\")"
   ]
  },
  {
   "cell_type": "markdown",
   "metadata": {},
   "source": [
    "## Where does this make a difference?\n"
   ]
  },
  {
   "cell_type": "markdown",
   "metadata": {},
   "source": [
    "This matters because it changes what it means to pass the objects around. In particular, any time you want to continue iterating under different conditions, such as finding a matching value in a list or string, or finding the first warm day after a freeze in temperature data.\n"
   ]
  },
  {
   "cell_type": "markdown",
   "metadata": {},
   "source": [
    "Imagine that you wanted to find the position of the matching quotes in the following string. You could iterate until until you find the first quotation mark, and then continue iterating until you find the second one.\n"
   ]
  },
  {
   "cell_type": "code",
   "execution_count": 20,
   "metadata": {},
   "outputs": [
    {
     "name": "stdout",
     "output_type": "stream",
     "text": [
      "Two common examples of pangrams are \"The quick red fox jumps over the lazy brown dog.\" and \"Sphynx of black quartz, judge my vow.\" \n"
     ]
    }
   ],
   "source": [
    "some_pangrams = \"\"\"Two common examples of pangrams are \"The quick red fox jumps over the lazy brown dog.\" and \"Sphynx of black quartz, judge my vow.\" \"\"\"\n",
    "print(some_pangrams)"
   ]
  },
  {
   "cell_type": "markdown",
   "metadata": {},
   "source": [
    "Let us try with generator expressions and with range objects directly."
   ]
  },
  {
   "cell_type": "markdown",
   "metadata": {},
   "source": [
    "### Iterating with a generator expression"
   ]
  },
  {
   "cell_type": "code",
   "execution_count": 21,
   "metadata": {},
   "outputs": [],
   "source": [
    "def find_quote_with_generator_expression(quote_string=some_pangrams, starting_position=0):\n",
    "    quote_start_pos = None\n",
    "    quote_end_pos = None\n",
    "    pos_generator = (i for i in range(len(quote_string)))\n",
    "    for possible_start_pos in pos_generator:\n",
    "        if quote_string[possible_start_pos] == '\"':\n",
    "            quote_start_pos = possible_start_pos\n",
    "            break\n",
    "    # We have found the first quotation mark.  Now let us continue iterating until we find the next one.\n",
    "    for possible_end_pos in pos_generator:\n",
    "        # Uncomment the following print statement if you want a step-by-step view of the results\n",
    "        # print(f\"checking {possible_end_pos}, {quote_string[possible_end_pos]}\")\n",
    "        if quote_string[possible_end_pos] == '\"':\n",
    "            quote_end_pos = possible_end_pos\n",
    "            break\n",
    "    return (quote_start_pos, quote_end_pos)"
   ]
  },
  {
   "cell_type": "code",
   "execution_count": 22,
   "metadata": {},
   "outputs": [
    {
     "name": "stdout",
     "output_type": "stream",
     "text": [
      "(36, 85)\n"
     ]
    }
   ],
   "source": [
    "print(find_quote_with_generator_expression())"
   ]
  },
  {
   "cell_type": "markdown",
   "metadata": {},
   "source": [
    "This seems to work the way that we might expect.  The second **for** loop continues the iteration."
   ]
  },
  {
   "cell_type": "markdown",
   "metadata": {},
   "source": [
    "### Iterating with range objects"
   ]
  },
  {
   "cell_type": "code",
   "execution_count": 23,
   "metadata": {},
   "outputs": [],
   "source": [
    "def find_quote_with_range(quote_string=some_pangrams, starting_position=0):\n",
    "    quote_start_pos = None\n",
    "    quote_end_pos = None\n",
    "    pos_range = range(starting_position, len(quote_string))\n",
    "    for possible_start_pos in pos_range:\n",
    "        if quote_string[possible_start_pos] == '\"':\n",
    "            quote_start_pos = possible_start_pos\n",
    "            break\n",
    "    # We have found the first quotation mark.  Now let us continue iterating until we find the next one.\n",
    "    for possible_end_pos in pos_range:\n",
    "        # Uncomment the following print statement if you want a step-by-step view of the results\n",
    "        # print(f\"checking {possible_end_pos}, {quote_string[possible_end_pos]}\")\n",
    "        if quote_string[possible_end_pos] == '\"':\n",
    "            quote_end_pos = possible_end_pos\n",
    "            break\n",
    "    return (quote_start_pos, quote_end_pos)"
   ]
  },
  {
   "cell_type": "code",
   "execution_count": 24,
   "metadata": {},
   "outputs": [
    {
     "name": "stdout",
     "output_type": "stream",
     "text": [
      "(36, 36)\n"
     ]
    }
   ],
   "source": [
    "print(find_quote_with_range())"
   ]
  },
  {
   "cell_type": "markdown",
   "metadata": {},
   "source": [
    "This doesn't work the way that we migh expect.  The function finds the first quotation mark both times, because each for loop starts from the begining of the string.\n",
    "\n",
    "This might seem counterintuitive.  In the first version we pass the same generator to both **for** loops and it works.  In the second version we pass the same **range()** object to both **for** loops and it doesn't work.  What's the difference?"
   ]
  },
  {
   "cell_type": "markdown",
   "metadata": {},
   "source": [
    "### Explaining the difference between using range and generator objects"
   ]
  },
  {
   "cell_type": "markdown",
   "metadata": {},
   "source": [
    "The two functions above look simlar but behave differently because Python's **for** loop doesn't iterate over the object you pass to the **in** clause.  Instead, it calls **iter()** on that object and iterates over whatever it returns.\n",
    "\n",
    "When **iter()** is called on a generator expression, and on iterators generally, the result is themselves.  Each time **iter()** is called on a range object, a new iterator starting from the beginning is returned."
   ]
  },
  {
   "cell_type": "markdown",
   "metadata": {},
   "source": [
    "### Can we fix the range-based function?"
   ]
  },
  {
   "cell_type": "markdown",
   "metadata": {},
   "source": [
    "To fix the range based version of the function we need to make it more like the generator based one.\n",
    "1.  We need some object to hold the state of the iteration\n",
    "2.  We need both **for** loops to iterate over that object\n",
    "1.  **for** loops obtain the object that they iterate over by calling **iter()** on the object in their **in** clause\n",
    "1.  Therefore, to control what **for** loops iterate over, we need to control what the **iter()** function returns\n",
    "1.  iterators return themselves when **iter()** is called on them\n",
    "1.  Therefore an iterator object can be used to preserve the state of iteration across loops"
   ]
  },
  {
   "cell_type": "code",
   "execution_count": 25,
   "metadata": {},
   "outputs": [],
   "source": [
    "def find_quote_with_range_iterator(quote_string=some_pangrams, starting_position=0):\n",
    "    quote_start_pos = None\n",
    "    quote_end_pos = None\n",
    "    pos_range = range(starting_position, len(quote_string))\n",
    "    pos_range_iterator = iter(pos_range)\n",
    "    for possible_start_pos in pos_range_iterator:\n",
    "        if quote_string[possible_start_pos] == '\"':\n",
    "            quote_start_pos = possible_start_pos\n",
    "            break\n",
    "    # We have found the first quotation mark.  Now let us continue iterating until we find the next one.\n",
    "    for possible_end_pos in pos_range_iterator:\n",
    "        # Uncomment the following print statement if you want a step-by-step view of the results\n",
    "        # print(f\"checking {possible_end_pos}, {quote_string[possible_end_pos]}\")\n",
    "        if quote_string[possible_end_pos] == '\"':\n",
    "            quote_end_pos = possible_end_pos\n",
    "            break\n",
    "    return (quote_start_pos, quote_end_pos)"
   ]
  },
  {
   "cell_type": "code",
   "execution_count": 26,
   "metadata": {},
   "outputs": [
    {
     "name": "stdout",
     "output_type": "stream",
     "text": [
      "(36, 85)\n"
     ]
    }
   ],
   "source": [
    "print(find_quote_with_range_iterator())"
   ]
  },
  {
   "cell_type": "markdown",
   "metadata": {},
   "source": [
    "## What about generator functions?"
   ]
  },
  {
   "cell_type": "markdown",
   "metadata": {},
   "source": [
    "Each call to a generator function returns a new generator iterator.\n",
    "\n",
    "This is more visible when using Python type hints, since a generator function that **yield**s, say, integers, doesn't return any integers.  It returns an iterator that produces them."
   ]
  },
  {
   "cell_type": "code",
   "execution_count": 27,
   "metadata": {},
   "outputs": [],
   "source": [
    "def my_generator_function():\n",
    "    while True:\n",
    "        yield 7"
   ]
  },
  {
   "cell_type": "code",
   "execution_count": 28,
   "metadata": {},
   "outputs": [
    {
     "name": "stdout",
     "output_type": "stream",
     "text": [
      "<class 'function'>\n"
     ]
    }
   ],
   "source": [
    "print(type(my_generator_function))"
   ]
  },
  {
   "cell_type": "code",
   "execution_count": 29,
   "metadata": {},
   "outputs": [],
   "source": [
    "my_generator_function_result = my_generator_function()"
   ]
  },
  {
   "cell_type": "code",
   "execution_count": 30,
   "metadata": {},
   "outputs": [
    {
     "data": {
      "text/plain": [
       "generator"
      ]
     },
     "execution_count": 30,
     "metadata": {},
     "output_type": "execute_result"
    }
   ],
   "source": [
    "type(my_generator_function_result)"
   ]
  },
  {
   "cell_type": "code",
   "execution_count": 31,
   "metadata": {},
   "outputs": [
    {
     "name": "stdout",
     "output_type": "stream",
     "text": [
      "The iterator produced 7 of type <class 'int'>\n"
     ]
    }
   ],
   "source": [
    "my_generator_iterator_result = next(my_generator_function_result)\n",
    "print(f\"The iterator produced {my_generator_iterator_result} of type {\n",
    "      type(my_generator_iterator_result)}\")"
   ]
  }
 ],
 "metadata": {
  "kernelspec": {
   "display_name": ".env",
   "language": "python",
   "name": "python3"
  },
  "language_info": {
   "codemirror_mode": {
    "name": "ipython",
    "version": 3
   },
   "file_extension": ".py",
   "mimetype": "text/x-python",
   "name": "python",
   "nbconvert_exporter": "python",
   "pygments_lexer": "ipython3",
   "version": "3.12.7"
  }
 },
 "nbformat": 4,
 "nbformat_minor": 2
}
