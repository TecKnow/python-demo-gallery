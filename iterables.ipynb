{
 "cells": [
  {
   "cell_type": "markdown",
   "metadata": {},
   "source": [
    "# Iteration in Python\n"
   ]
  },
  {
   "cell_type": "markdown",
   "metadata": {},
   "source": [
    "## Range objects\n"
   ]
  },
  {
   "cell_type": "code",
   "execution_count": 451,
   "metadata": {},
   "outputs": [],
   "source": [
    "my_range = range(10)"
   ]
  },
  {
   "cell_type": "code",
   "execution_count": 452,
   "metadata": {},
   "outputs": [
    {
     "name": "stdout",
     "output_type": "stream",
     "text": [
      "<class 'range'>\n"
     ]
    }
   ],
   "source": [
    "print(type(my_range))"
   ]
  },
  {
   "cell_type": "code",
   "execution_count": 453,
   "metadata": {},
   "outputs": [
    {
     "name": "stdout",
     "output_type": "stream",
     "text": [
      "range(0, 10)\n"
     ]
    }
   ],
   "source": [
    "print(my_range)"
   ]
  },
  {
   "cell_type": "code",
   "execution_count": 454,
   "metadata": {},
   "outputs": [
    {
     "name": "stdout",
     "output_type": "stream",
     "text": [
      "[0, 1, 2, 3, 4, 5, 6, 7, 8, 9]\n"
     ]
    }
   ],
   "source": [
    "print(list(my_range))"
   ]
  },
  {
   "cell_type": "code",
   "execution_count": 455,
   "metadata": {},
   "outputs": [
    {
     "name": "stdout",
     "output_type": "stream",
     "text": [
      "2\n"
     ]
    }
   ],
   "source": [
    "print(my_range[2])"
   ]
  },
  {
   "cell_type": "code",
   "execution_count": 456,
   "metadata": {},
   "outputs": [],
   "source": [
    "import collections.abc"
   ]
  },
  {
   "cell_type": "code",
   "execution_count": 457,
   "metadata": {},
   "outputs": [
    {
     "name": "stdout",
     "output_type": "stream",
     "text": [
      "Are ranges iterables? True\n",
      "Are ranges iterators?  False\n"
     ]
    }
   ],
   "source": [
    "print(f\"Are ranges iterables? {isinstance(\n",
    "    my_range, collections.abc.Iterable)}\")\n",
    "print(f\"Are ranges iterators?  {isinstance(\n",
    "    my_range, collections.abc.Iterator)}\")"
   ]
  },
  {
   "cell_type": "code",
   "execution_count": 458,
   "metadata": {},
   "outputs": [
    {
     "name": "stdout",
     "output_type": "stream",
     "text": [
      "Does calling iter() on a range return the same object each time? False\n"
     ]
    }
   ],
   "source": [
    "print(f\"Does calling iter() on a range return the same object each time? {\n",
    "      iter(my_range) == iter(my_range)}\")"
   ]
  },
  {
   "cell_type": "code",
   "execution_count": 459,
   "metadata": {},
   "outputs": [],
   "source": [
    "my_generator_expression = (x for x in range(10))"
   ]
  },
  {
   "cell_type": "code",
   "execution_count": 460,
   "metadata": {},
   "outputs": [
    {
     "name": "stdout",
     "output_type": "stream",
     "text": [
      "<class 'generator'>\n"
     ]
    }
   ],
   "source": [
    "print(type(my_generator_expression))"
   ]
  },
  {
   "cell_type": "code",
   "execution_count": 461,
   "metadata": {},
   "outputs": [
    {
     "name": "stdout",
     "output_type": "stream",
     "text": [
      "'generator' object is not subscriptable\n"
     ]
    }
   ],
   "source": [
    "try:\n",
    "    print(my_generator_expression[0])\n",
    "except TypeError as e:\n",
    "    print(e)"
   ]
  },
  {
   "cell_type": "code",
   "execution_count": 462,
   "metadata": {},
   "outputs": [
    {
     "name": "stdout",
     "output_type": "stream",
     "text": [
      "Are generators iterables? True\n",
      "Are ranges iterators?  True\n"
     ]
    }
   ],
   "source": [
    "print(f\"Are generators iterables? {isinstance(\n",
    "    my_generator_expression, collections.abc.Iterable)}\")\n",
    "print(f\"Are ranges iterators?  {isinstance(\n",
    "    my_generator_expression, collections.abc.Iterator)}\")"
   ]
  },
  {
   "cell_type": "code",
   "execution_count": 463,
   "metadata": {},
   "outputs": [
    {
     "name": "stdout",
     "output_type": "stream",
     "text": [
      "Does calling iter() on a generator return the same object each time? True\n"
     ]
    }
   ],
   "source": [
    "print(f\"Does calling iter() on a generator return the same object each time? {\n",
    "      iter(my_generator_expression) == iter(my_generator_expression)}\")"
   ]
  },
  {
   "cell_type": "code",
   "execution_count": 464,
   "metadata": {},
   "outputs": [
    {
     "name": "stdout",
     "output_type": "stream",
     "text": [
      "Does calling iter() on a generator just return itself? True\n"
     ]
    }
   ],
   "source": [
    "print(f\"Does calling iter() on a generator just return itself? {\n",
    "      iter(my_generator_expression) == my_generator_expression}\")"
   ]
  },
  {
   "cell_type": "markdown",
   "metadata": {},
   "source": [
    "## Where does this make a difference?\n"
   ]
  },
  {
   "cell_type": "markdown",
   "metadata": {},
   "source": [
    "This matters because it changes what it means to pass the objects around. In particular, any time you want to continue iterating under different conditions, such as finding a matching value in a list or string, or finding the first warm day after a freeze in temperature data.\n"
   ]
  },
  {
   "cell_type": "markdown",
   "metadata": {},
   "source": [
    "Imagine that you wanted to find the position of the matching quotes in the following string. You could iterate until until you find the first quotation mark, and then continue iterating until you find the second one.\n"
   ]
  },
  {
   "cell_type": "code",
   "execution_count": 465,
   "metadata": {},
   "outputs": [
    {
     "name": "stdout",
     "output_type": "stream",
     "text": [
      "Two common examples of pangrams are \"The quick red fox jumps over the lazy brown dog.\" and \"Sphynx of black quartz, judge my vow.\" \n"
     ]
    }
   ],
   "source": [
    "some_pangrams = \"\"\"Two common examples of pangrams are \"The quick red fox jumps over the lazy brown dog.\" and \"Sphynx of black quartz, judge my vow.\" \"\"\"\n",
    "print(some_pangrams)"
   ]
  },
  {
   "cell_type": "markdown",
   "metadata": {},
   "source": [
    "Let us try with generator expressions and with range objects directly."
   ]
  },
  {
   "cell_type": "markdown",
   "metadata": {},
   "source": [
    "### Iterating with a generator expression"
   ]
  },
  {
   "cell_type": "code",
   "execution_count": 466,
   "metadata": {},
   "outputs": [],
   "source": [
    "def find_quote_with_generator_expression(quote_string=some_pangrams, starting_position=0):\n",
    "    quote_start_pos = None\n",
    "    quote_end_pos = None\n",
    "    pos_generator = (i for i in range(len(quote_string)))\n",
    "    for possible_start_pos in pos_generator:\n",
    "        if quote_string[possible_start_pos] == '\"':\n",
    "            quote_start_pos = possible_start_pos\n",
    "            break\n",
    "    # We have found the first quotation mark.  Now let us continue iterating until we find the next one.\n",
    "    for possible_end_pos in pos_generator:\n",
    "        # Uncomment the following print statement if you want a step-by-step view of the results\n",
    "        # print(f\"checking {possible_end_pos}, {quote_string[possible_end_pos]}\")\n",
    "        if quote_string[possible_end_pos] == '\"':\n",
    "            quote_end_pos = possible_end_pos\n",
    "            break\n",
    "    return (quote_start_pos, quote_end_pos)"
   ]
  },
  {
   "cell_type": "code",
   "execution_count": 467,
   "metadata": {},
   "outputs": [
    {
     "name": "stdout",
     "output_type": "stream",
     "text": [
      "(36, 85)\n"
     ]
    }
   ],
   "source": [
    "print(find_quote_with_generator_expression())"
   ]
  },
  {
   "cell_type": "markdown",
   "metadata": {},
   "source": [
    "This seems to work the way that we might expect.  The second **for** loop continues the iteration."
   ]
  },
  {
   "cell_type": "markdown",
   "metadata": {},
   "source": [
    "### Iterating with range objects"
   ]
  },
  {
   "cell_type": "code",
   "execution_count": 468,
   "metadata": {},
   "outputs": [],
   "source": [
    "def find_quote_with_range(quote_string=some_pangrams, starting_position=0):\n",
    "    quote_start_pos = None\n",
    "    quote_end_pos = None\n",
    "    pos_range = range(starting_position, len(quote_string))\n",
    "    for possible_start_pos in pos_range:\n",
    "        if quote_string[possible_start_pos] == '\"':\n",
    "            quote_start_pos = possible_start_pos\n",
    "            break\n",
    "    # We have found the first quotation mark.  Now let us continue iterating until we find the next one.\n",
    "    for possible_end_pos in pos_range:\n",
    "        # Uncomment the following print statement if you want a step-by-step view of the results\n",
    "        # print(f\"checking {possible_end_pos}, {quote_string[possible_end_pos]}\")\n",
    "        if quote_string[possible_end_pos] == '\"':\n",
    "            quote_end_pos = possible_end_pos\n",
    "            break\n",
    "    return (quote_start_pos, quote_end_pos)"
   ]
  },
  {
   "cell_type": "code",
   "execution_count": 469,
   "metadata": {},
   "outputs": [
    {
     "name": "stdout",
     "output_type": "stream",
     "text": [
      "(36, 36)\n"
     ]
    }
   ],
   "source": [
    "print(find_quote_with_range())"
   ]
  },
  {
   "cell_type": "markdown",
   "metadata": {},
   "source": [
    "This doesn't work the way that we migh expect.  The function finds the first quotation mark both times, because each for loop starts from the begining of the string.\n",
    "\n",
    "This might seem counterintuitive.  In the first version we pass the same generator to both **for** loops and it works.  In the second version we pass the same **range()** object to both **for** loops and it doesn't work.  What's the difference?"
   ]
  },
  {
   "cell_type": "markdown",
   "metadata": {},
   "source": [
    "### Explaining the difference between using range and generator objects"
   ]
  },
  {
   "cell_type": "markdown",
   "metadata": {},
   "source": [
    "The two functions above look simlar but behave differently because Python's **for** loop doesn't iterate over the object you pass to the **in** clause.  Instead, it calls **iter()** on that object and iterates over whatever it returns.\n",
    "\n",
    "When **iter()** is called on a generator expression, and on iterators generally, the result is themselves.  Each time **iter()** is called on a range object, a new iterator starting from the beginning is returned."
   ]
  },
  {
   "cell_type": "markdown",
   "metadata": {},
   "source": [
    "### Can we fix the range-based function?"
   ]
  },
  {
   "cell_type": "markdown",
   "metadata": {},
   "source": [
    "To fix the range based version of the function we need to make it more like the generator based one.\n",
    "1.  We need some object to hold the state of the iteration\n",
    "2.  We need both **for** loops to iterate over that object\n",
    "1.  **for** loops obtain the object that they iterate over by calling **iter()** on the object in their **in** clause\n",
    "1.  Therefore, to control what **for** loops iterate over, we need to control what the **iter()** function returns\n",
    "1.  iterators return themselves when **iter()** is called on them\n",
    "1.  Therefore an iterator object can be used to preserve the state of iteration across loops"
   ]
  },
  {
   "cell_type": "code",
   "execution_count": 470,
   "metadata": {},
   "outputs": [],
   "source": [
    "def find_quote_with_range_iterator(quote_string=some_pangrams, starting_position=0):\n",
    "    quote_start_pos = None\n",
    "    quote_end_pos = None\n",
    "    pos_range = range(starting_position, len(quote_string))\n",
    "    pos_range_iterator = iter(pos_range)\n",
    "    for possible_start_pos in pos_range_iterator:\n",
    "        if quote_string[possible_start_pos] == '\"':\n",
    "            quote_start_pos = possible_start_pos\n",
    "            break\n",
    "    # We have found the first quotation mark.  Now let us continue iterating until we find the next one.\n",
    "    for possible_end_pos in pos_range_iterator:\n",
    "        # Uncomment the following print statement if you want a step-by-step view of the results\n",
    "        # print(f\"checking {possible_end_pos}, {quote_string[possible_end_pos]}\")\n",
    "        if quote_string[possible_end_pos] == '\"':\n",
    "            quote_end_pos = possible_end_pos\n",
    "            break\n",
    "    return (quote_start_pos, quote_end_pos)"
   ]
  },
  {
   "cell_type": "code",
   "execution_count": 471,
   "metadata": {},
   "outputs": [
    {
     "name": "stdout",
     "output_type": "stream",
     "text": [
      "(36, 85)\n"
     ]
    }
   ],
   "source": [
    "print(find_quote_with_range_iterator())"
   ]
  },
  {
   "cell_type": "markdown",
   "metadata": {},
   "source": [
    "## What about generator functions?"
   ]
  },
  {
   "cell_type": "markdown",
   "metadata": {},
   "source": [
    "Each call to a generator function returns a new generator iterator.\n",
    "\n",
    "This is more visible when using Python type hints, since a generator function that **yield**s, say, integers, doesn't return any integers.  It returns an iterator that produces them."
   ]
  },
  {
   "cell_type": "code",
   "execution_count": 472,
   "metadata": {},
   "outputs": [],
   "source": [
    "def my_generator_function():\n",
    "    while True:\n",
    "        yield 7"
   ]
  },
  {
   "cell_type": "code",
   "execution_count": 473,
   "metadata": {},
   "outputs": [
    {
     "name": "stdout",
     "output_type": "stream",
     "text": [
      "<class 'function'>\n"
     ]
    }
   ],
   "source": [
    "print(type(my_generator_function))"
   ]
  },
  {
   "cell_type": "code",
   "execution_count": 474,
   "metadata": {},
   "outputs": [],
   "source": [
    "my_generator_function_result = my_generator_function()"
   ]
  },
  {
   "cell_type": "code",
   "execution_count": 475,
   "metadata": {},
   "outputs": [
    {
     "data": {
      "text/plain": [
       "generator"
      ]
     },
     "execution_count": 475,
     "metadata": {},
     "output_type": "execute_result"
    }
   ],
   "source": [
    "type(my_generator_function_result)"
   ]
  },
  {
   "cell_type": "code",
   "execution_count": 476,
   "metadata": {},
   "outputs": [
    {
     "name": "stdout",
     "output_type": "stream",
     "text": [
      "The iterator produced 7 of type <class 'int'>\n"
     ]
    }
   ],
   "source": [
    "my_generator_iterator_result = next(my_generator_function_result)\n",
    "print(f\"The iterator produced {my_generator_iterator_result} of type {\n",
    "      type(my_generator_iterator_result)}\")"
   ]
  }
 ],
 "metadata": {
  "kernelspec": {
   "display_name": ".venv",
   "language": "python",
   "name": "python3"
  },
  "language_info": {
   "codemirror_mode": {
    "name": "ipython",
    "version": 3
   },
   "file_extension": ".py",
   "mimetype": "text/x-python",
   "name": "python",
   "nbconvert_exporter": "python",
   "pygments_lexer": "ipython3",
   "version": "3.13.0"
  }
 },
 "nbformat": 4,
 "nbformat_minor": 2
}
