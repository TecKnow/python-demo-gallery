{
 "cells": [
  {
   "cell_type": "markdown",
   "id": "eb50ddf6",
   "metadata": {},
   "source": [
    "# Python exceptions"
   ]
  },
  {
   "cell_type": "markdown",
   "id": "a7be69fe",
   "metadata": {},
   "source": [
    "## The try statement"
   ]
  },
  {
   "cell_type": "markdown",
   "id": "a4a756f5",
   "metadata": {},
   "source": [
    "### Antipatterns and \"code smells\""
   ]
  },
  {
   "cell_type": "markdown",
   "id": "d163bc3d",
   "metadata": {},
   "source": [
    "#### References"
   ]
  },
  {
   "cell_type": "markdown",
   "id": "4f370e20",
   "metadata": {},
   "source": [
    "The best way to structure your error-handling code is a long-term question in computer science and software engineering.  Here's just one casually-located example that hits on many of the major themes in more detail than I present here:\n",
    "\n",
    "https://medium.com/swlh/return-early-pattern-3d18a41bba8"
   ]
  },
  {
   "cell_type": "markdown",
   "id": "5736e482",
   "metadata": {},
   "source": [
    "#### Long indented blocks"
   ]
  },
  {
   "cell_type": "markdown",
   "id": "977a7008",
   "metadata": {},
   "source": [
    "If you've got a long process that you want to skip if an exception is thrown it can seem natural to include the entire process inside a `try` clause.  If an exception happens then the rest of the associated block will be skipped, and the relevant `except` clause will run.  The pattern looks a bit like this:"
   ]
  },
  {
   "cell_type": "markdown",
   "id": "87c5c73e",
   "metadata": {},
   "source": [
    "```python\n",
    "for article_url in articles_to_check:\n",
    "    try:\n",
    "        # Here's some code that might fail\n",
    "        fetch_article(article_url)\n",
    "        do(article_url)\n",
    "        some(article_url)\n",
    "        multi(article_url)\n",
    "        step(article_url)\n",
    "        process(article_url)\n",
    "    except:\n",
    "        print(f\"could not fetch {article_url})\n",
    "```"
   ]
  },
  {
   "cell_type": "markdown",
   "id": "565ae033",
   "metadata": {},
   "source": [
    "This does work, but the indented block can become very long.  Especially when code becomes deeply nested this can make it hard to read and reason about.  Let's set up a working example of the problem and then try some alternative solutions."
   ]
  },
  {
   "cell_type": "markdown",
   "id": "7830c7e8",
   "metadata": {},
   "source": [
    "In the code snippet below I use several elipses (...), which are no-ops in Python, to stand in for a multi-step process."
   ]
  },
  {
   "cell_type": "code",
   "execution_count": 33,
   "id": "779c7224",
   "metadata": {},
   "outputs": [],
   "source": [
    "def consider(test_value):\n",
    "    if test_value % 7 == 0:\n",
    "        raise ValueError(f\"Don't like: {test_value}\")\n",
    "    else:\n",
    "        return f\"Happy to find {test_value}\""
   ]
  },
  {
   "cell_type": "code",
   "execution_count": 34,
   "id": "e928fa22",
   "metadata": {},
   "outputs": [
    {
     "name": "stdout",
     "output_type": "stream",
     "text": [
      "Happy to find 1\n",
      "Still inside the loop after the try statement\n",
      "Happy to find 2\n",
      "Still inside the loop after the try statement\n",
      "Happy to find 3\n",
      "Still inside the loop after the try statement\n",
      "Happy to find 4\n",
      "Still inside the loop after the try statement\n",
      "Happy to find 5\n",
      "Still inside the loop after the try statement\n",
      "Happy to find 6\n",
      "Still inside the loop after the try statement\n",
      "Don't like: 7\n",
      "Still inside the loop after the try statement\n",
      "Happy to find 8\n",
      "Still inside the loop after the try statement\n",
      "Happy to find 9\n",
      "Still inside the loop after the try statement\n",
      "Happy to find 10\n",
      "Still inside the loop after the try statement\n",
      "sum_of_good_values=48\n"
     ]
    }
   ],
   "source": [
    "sum_of_good_values = 0\n",
    "for x in range(1, 11):\n",
    "    try:\n",
    "        print(consider(x))\n",
    "        ...\n",
    "        ...\n",
    "        ...\n",
    "        ...\n",
    "        ...\n",
    "        sum_of_good_values += x\n",
    "    except ValueError as e:\n",
    "        print(e)\n",
    "    print(\"Still inside the loop after the try statement\")\n",
    "print(f\"{sum_of_good_values=}\")"
   ]
  },
  {
   "cell_type": "markdown",
   "id": "576c15bb",
   "metadata": {},
   "source": [
    "<div class=\"alert alert-block alert-warning\">\n",
    "<b>Warning:</b> Read the above output carefully! <br/>Notice that the code inside the loop but after the try statement always runs.\n",
    "</div>"
   ]
  },
  {
   "cell_type": "markdown",
   "id": "42a47c1a",
   "metadata": {},
   "source": [
    "The problem with this pattern is that the `try` clause needs to include not just the code that might raise an excception, but all the code that shoudln't run if it does.  So, how can we avoid this?"
   ]
  },
  {
   "cell_type": "markdown",
   "id": "9e2c2f54",
   "metadata": {},
   "source": [
    "#### Alternatives"
   ]
  },
  {
   "cell_type": "code",
   "execution_count": 35,
   "id": "e9c3a078",
   "metadata": {},
   "outputs": [
    {
     "name": "stdout",
     "output_type": "stream",
     "text": [
      "Happy to find 1\n",
      "Still inside the loop after the try statement\n",
      "Happy to find 2\n",
      "Still inside the loop after the try statement\n",
      "Happy to find 3\n",
      "Still inside the loop after the try statement\n",
      "Happy to find 4\n",
      "Still inside the loop after the try statement\n",
      "Happy to find 5\n",
      "Still inside the loop after the try statement\n",
      "Happy to find 6\n",
      "Still inside the loop after the try statement\n",
      "Don't like: 7\n",
      "Happy to find 8\n",
      "Still inside the loop after the try statement\n",
      "Happy to find 9\n",
      "Still inside the loop after the try statement\n",
      "Happy to find 10\n",
      "Still inside the loop after the try statement\n",
      "sum_of_good_values=48\n"
     ]
    }
   ],
   "source": [
    "sum_of_good_values = 0\n",
    "for x in range(1, 11):\n",
    "    try:\n",
    "        print(consider(x))\n",
    "    except ValueError as e:\n",
    "        print(e)\n",
    "        continue\n",
    "    ...\n",
    "    ...\n",
    "    ...\n",
    "    ...\n",
    "    ...\n",
    "    sum_of_good_values += x\n",
    "    print(\"Still inside the loop after the try statement\")\n",
    "print(f\"{sum_of_good_values=}\")"
   ]
  },
  {
   "cell_type": "markdown",
   "id": "79819de7",
   "metadata": {},
   "source": [
    "Note that the code after the try statement doesn't run if there's an exception!  The `continue` statement skips the remainder of the loop body and starts at the top with the next value.  These approaches aren't strictly and always equivilent.  "
   ]
  }
 ],
 "metadata": {
  "kernelspec": {
   "display_name": ".env",
   "language": "python",
   "name": "python3"
  },
  "language_info": {
   "codemirror_mode": {
    "name": "ipython",
    "version": 3
   },
   "file_extension": ".py",
   "mimetype": "text/x-python",
   "name": "python",
   "nbconvert_exporter": "python",
   "pygments_lexer": "ipython3",
   "version": "3.12.3"
  }
 },
 "nbformat": 4,
 "nbformat_minor": 5
}
