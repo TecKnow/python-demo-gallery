{
 "cells": [
  {
   "cell_type": "markdown",
   "id": "7b84bf78",
   "metadata": {},
   "source": [
    "# Pathlib"
   ]
  },
  {
   "cell_type": "markdown",
   "id": "9116a178",
   "metadata": {},
   "source": [
    "By itself, pythons **pathlib** library, or specificlaly the pure path types that form the basis of the module's type heierarchy, is purely a specialized text processing module.  It performs operations on strings that represent file paths.\n",
    "\n",
    "It also contains mix-ins that add functoinality to actually act on the file paths represented by those strings.  It won't let the programmer use a mix-in that can't work in their current environment.  You can't instantitate a concrete windows path in a linux environment, for exmaple, becuase none of the file system funciton calls would work.\n",
    "\n",
    "But pure paths are just text, so you can interact with any sort of pure path on any system."
   ]
  },
  {
   "cell_type": "code",
   "execution_count": 27,
   "id": "c1354629",
   "metadata": {},
   "outputs": [],
   "source": [
    "from pathlib import Path, PureWindowsPath"
   ]
  },
  {
   "cell_type": "markdown",
   "id": "2c8864df",
   "metadata": {},
   "source": [
    "I use the code and output below to show that I'm running in a linux environment - WSL specifically, and I have POSIX style file paths.\n",
    "\n",
    "Getting the current working directory is a file system operation, so it returns a concrete file path that can work on my system."
   ]
  },
  {
   "cell_type": "code",
   "execution_count": 28,
   "id": "98121130",
   "metadata": {},
   "outputs": [
    {
     "name": "stdout",
     "output_type": "stream",
     "text": [
      "/home/perkinsd/python-iterables-discussion\n",
      "<class 'pathlib.PosixPath'>\n"
     ]
    }
   ],
   "source": [
    "test_path = Path.cwd()\n",
    "print(test_path)\n",
    "print(type(test_path))"
   ]
  },
  {
   "cell_type": "markdown",
   "id": "29424ad1",
   "metadata": {},
   "source": [
    "```python console\n",
    "/home/perkinsd/python-iterables-discussion\n",
    "<class 'pathlib.PosixPath'>\n",
    "```"
   ]
  },
  {
   "cell_type": "markdown",
   "id": "257df85e",
   "metadata": {},
   "source": [
    "If I needed to interact with Windows file paths for any reason, I could still do that in my linux environment by instantiating a pure windows path, as I demonstrate below."
   ]
  },
  {
   "cell_type": "code",
   "execution_count": 29,
   "id": "5751dc5b",
   "metadata": {},
   "outputs": [
    {
     "name": "stdout",
     "output_type": "stream",
     "text": [
      "C:\\users\\Bob\n"
     ]
    }
   ],
   "source": [
    "win_path = PureWindowsPath(r'C:\\users\\Bob')\n",
    "print (win_path)"
   ]
  },
  {
   "cell_type": "markdown",
   "id": "c603caf7",
   "metadata": {},
   "source": [
    "I can use specialized text processing functions to do things like get the drive letter from a windows file path, as shown below."
   ]
  },
  {
   "cell_type": "markdown",
   "id": "26e65e44",
   "metadata": {},
   "source": [
    "```python console\n",
    "win_path = PureWindowsPath(r'C:\\users\\Bob')\n",
    "print (win_path)\n",
    "```"
   ]
  },
  {
   "cell_type": "code",
   "execution_count": 30,
   "id": "0c86ee99",
   "metadata": {},
   "outputs": [
    {
     "data": {
      "text/plain": [
       "'C:'"
      ]
     },
     "execution_count": 30,
     "metadata": {},
     "output_type": "execute_result"
    }
   ],
   "source": [
    "win_path.drive"
   ]
  },
  {
   "cell_type": "markdown",
   "id": "a00ee625",
   "metadata": {},
   "source": [
    "```python console\n",
    "'C:'\n",
    "```"
   ]
  }
 ],
 "metadata": {
  "kernelspec": {
   "display_name": ".env",
   "language": "python",
   "name": "python3"
  },
  "language_info": {
   "codemirror_mode": {
    "name": "ipython",
    "version": 3
   },
   "file_extension": ".py",
   "mimetype": "text/x-python",
   "name": "python",
   "nbconvert_exporter": "python",
   "pygments_lexer": "ipython3",
   "version": "3.12.7"
  }
 },
 "nbformat": 4,
 "nbformat_minor": 5
}
