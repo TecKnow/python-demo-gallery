{
 "cells": [
  {
   "cell_type": "code",
   "execution_count": 6,
   "id": "b5c305b6",
   "metadata": {},
   "outputs": [],
   "source": [
    "import datetime\n",
    "from itertools import groupby\n",
    "from calendar import TUESDAY"
   ]
  },
  {
   "cell_type": "code",
   "execution_count": 7,
   "id": "a9ad6940",
   "metadata": {},
   "outputs": [],
   "source": [
    "\n",
    "today = datetime.date.today()\n",
    "start_date = today.replace(day=1)\n",
    "current_date = start_date\n",
    "planning_horizon = start_date.replace(\n",
    "    year=today.year + 10)\n",
    "one_day = datetime.timedelta(days=1)"
   ]
  },
  {
   "cell_type": "code",
   "execution_count": 8,
   "id": "39d92223",
   "metadata": {},
   "outputs": [
    {
     "name": "stdout",
     "output_type": "stream",
     "text": [
      "{(2025, 9): (datetime.date(2025, 9, 2), datetime.date(2025, 9, 9), datetime.date(2025, 9, 16), datetime.date(2025, 9, 23), datetime.date(2025, 9, 30)), (2025, 10): (datetime.date(2025, 10, 7), datetime.date(2025, 10, 14), datetime.date(2025, 10, 21), datetime.date(2025, 10, 28)), (2025, 11): (datetime.date(2025, 11, 4), datetime.date(2025, 11, 11), datetime.date(2025, 11, 18), datetime.date(2025, 11, 25)), (2025, 12): (datetime.date(2025, 12, 2), datetime.date(2025, 12, 9), datetime.date(2025, 12, 16), datetime.date(2025, 12, 23), datetime.date(2025, 12, 30)), (2026, 1): (datetime.date(2026, 1, 6), datetime.date(2026, 1, 13), datetime.date(2026, 1, 20), datetime.date(2026, 1, 27)), (2026, 2): (datetime.date(2026, 2, 3), datetime.date(2026, 2, 10), datetime.date(2026, 2, 17), datetime.date(2026, 2, 24)), (2026, 3): (datetime.date(2026, 3, 3), datetime.date(2026, 3, 10), datetime.date(2026, 3, 17), datetime.date(2026, 3, 24), datetime.date(2026, 3, 31)), (2026, 4): (datetime.date(2026, 4, 7), datetime.date(2026, 4, 14), datetime.date(2026, 4, 21), datetime.date(2026, 4, 28)), (2026, 5): (datetime.date(2026, 5, 5), datetime.date(2026, 5, 12), datetime.date(2026, 5, 19), datetime.date(2026, 5, 26)), (2026, 6): (datetime.date(2026, 6, 2), datetime.date(2026, 6, 9), datetime.date(2026, 6, 16), datetime.date(2026, 6, 23), datetime.date(2026, 6, 30)), (2026, 7): (datetime.date(2026, 7, 7), datetime.date(2026, 7, 14), datetime.date(2026, 7, 21), datetime.date(2026, 7, 28)), (2026, 8): (datetime.date(2026, 8, 4), datetime.date(2026, 8, 11), datetime.date(2026, 8, 18), datetime.date(2026, 8, 25)), (2026, 9): (datetime.date(2026, 9, 1), datetime.date(2026, 9, 8), datetime.date(2026, 9, 15), datetime.date(2026, 9, 22), datetime.date(2026, 9, 29)), (2026, 10): (datetime.date(2026, 10, 6), datetime.date(2026, 10, 13), datetime.date(2026, 10, 20), datetime.date(2026, 10, 27)), (2026, 11): (datetime.date(2026, 11, 3), datetime.date(2026, 11, 10), datetime.date(2026, 11, 17), datetime.date(2026, 11, 24)), (2026, 12): (datetime.date(2026, 12, 1), datetime.date(2026, 12, 8), datetime.date(2026, 12, 15), datetime.date(2026, 12, 22), datetime.date(2026, 12, 29)), (2027, 1): (datetime.date(2027, 1, 5), datetime.date(2027, 1, 12), datetime.date(2027, 1, 19), datetime.date(2027, 1, 26)), (2027, 2): (datetime.date(2027, 2, 2), datetime.date(2027, 2, 9), datetime.date(2027, 2, 16), datetime.date(2027, 2, 23)), (2027, 3): (datetime.date(2027, 3, 2), datetime.date(2027, 3, 9), datetime.date(2027, 3, 16), datetime.date(2027, 3, 23), datetime.date(2027, 3, 30)), (2027, 4): (datetime.date(2027, 4, 6), datetime.date(2027, 4, 13), datetime.date(2027, 4, 20), datetime.date(2027, 4, 27)), (2027, 5): (datetime.date(2027, 5, 4), datetime.date(2027, 5, 11), datetime.date(2027, 5, 18), datetime.date(2027, 5, 25)), (2027, 6): (datetime.date(2027, 6, 1), datetime.date(2027, 6, 8), datetime.date(2027, 6, 15), datetime.date(2027, 6, 22), datetime.date(2027, 6, 29)), (2027, 7): (datetime.date(2027, 7, 6), datetime.date(2027, 7, 13), datetime.date(2027, 7, 20), datetime.date(2027, 7, 27)), (2027, 8): (datetime.date(2027, 8, 3), datetime.date(2027, 8, 10), datetime.date(2027, 8, 17), datetime.date(2027, 8, 24), datetime.date(2027, 8, 31)), (2027, 9): (datetime.date(2027, 9, 7), datetime.date(2027, 9, 14), datetime.date(2027, 9, 21), datetime.date(2027, 9, 28)), (2027, 10): (datetime.date(2027, 10, 5), datetime.date(2027, 10, 12), datetime.date(2027, 10, 19), datetime.date(2027, 10, 26)), (2027, 11): (datetime.date(2027, 11, 2), datetime.date(2027, 11, 9), datetime.date(2027, 11, 16), datetime.date(2027, 11, 23), datetime.date(2027, 11, 30)), (2027, 12): (datetime.date(2027, 12, 7), datetime.date(2027, 12, 14), datetime.date(2027, 12, 21), datetime.date(2027, 12, 28)), (2028, 1): (datetime.date(2028, 1, 4), datetime.date(2028, 1, 11), datetime.date(2028, 1, 18), datetime.date(2028, 1, 25)), (2028, 2): (datetime.date(2028, 2, 1), datetime.date(2028, 2, 8), datetime.date(2028, 2, 15), datetime.date(2028, 2, 22), datetime.date(2028, 2, 29)), (2028, 3): (datetime.date(2028, 3, 7), datetime.date(2028, 3, 14), datetime.date(2028, 3, 21), datetime.date(2028, 3, 28)), (2028, 4): (datetime.date(2028, 4, 4), datetime.date(2028, 4, 11), datetime.date(2028, 4, 18), datetime.date(2028, 4, 25)), (2028, 5): (datetime.date(2028, 5, 2), datetime.date(2028, 5, 9), datetime.date(2028, 5, 16), datetime.date(2028, 5, 23), datetime.date(2028, 5, 30)), (2028, 6): (datetime.date(2028, 6, 6), datetime.date(2028, 6, 13), datetime.date(2028, 6, 20), datetime.date(2028, 6, 27)), (2028, 7): (datetime.date(2028, 7, 4), datetime.date(2028, 7, 11), datetime.date(2028, 7, 18), datetime.date(2028, 7, 25)), (2028, 8): (datetime.date(2028, 8, 1), datetime.date(2028, 8, 8), datetime.date(2028, 8, 15), datetime.date(2028, 8, 22), datetime.date(2028, 8, 29)), (2028, 9): (datetime.date(2028, 9, 5), datetime.date(2028, 9, 12), datetime.date(2028, 9, 19), datetime.date(2028, 9, 26)), (2028, 10): (datetime.date(2028, 10, 3), datetime.date(2028, 10, 10), datetime.date(2028, 10, 17), datetime.date(2028, 10, 24), datetime.date(2028, 10, 31)), (2028, 11): (datetime.date(2028, 11, 7), datetime.date(2028, 11, 14), datetime.date(2028, 11, 21), datetime.date(2028, 11, 28)), (2028, 12): (datetime.date(2028, 12, 5), datetime.date(2028, 12, 12), datetime.date(2028, 12, 19), datetime.date(2028, 12, 26)), (2029, 1): (datetime.date(2029, 1, 2), datetime.date(2029, 1, 9), datetime.date(2029, 1, 16), datetime.date(2029, 1, 23), datetime.date(2029, 1, 30)), (2029, 2): (datetime.date(2029, 2, 6), datetime.date(2029, 2, 13), datetime.date(2029, 2, 20), datetime.date(2029, 2, 27)), (2029, 3): (datetime.date(2029, 3, 6), datetime.date(2029, 3, 13), datetime.date(2029, 3, 20), datetime.date(2029, 3, 27)), (2029, 4): (datetime.date(2029, 4, 3), datetime.date(2029, 4, 10), datetime.date(2029, 4, 17), datetime.date(2029, 4, 24)), (2029, 5): (datetime.date(2029, 5, 1), datetime.date(2029, 5, 8), datetime.date(2029, 5, 15), datetime.date(2029, 5, 22), datetime.date(2029, 5, 29)), (2029, 6): (datetime.date(2029, 6, 5), datetime.date(2029, 6, 12), datetime.date(2029, 6, 19), datetime.date(2029, 6, 26)), (2029, 7): (datetime.date(2029, 7, 3), datetime.date(2029, 7, 10), datetime.date(2029, 7, 17), datetime.date(2029, 7, 24), datetime.date(2029, 7, 31)), (2029, 8): (datetime.date(2029, 8, 7), datetime.date(2029, 8, 14), datetime.date(2029, 8, 21), datetime.date(2029, 8, 28)), (2029, 9): (datetime.date(2029, 9, 4), datetime.date(2029, 9, 11), datetime.date(2029, 9, 18), datetime.date(2029, 9, 25)), (2029, 10): (datetime.date(2029, 10, 2), datetime.date(2029, 10, 9), datetime.date(2029, 10, 16), datetime.date(2029, 10, 23), datetime.date(2029, 10, 30)), (2029, 11): (datetime.date(2029, 11, 6), datetime.date(2029, 11, 13), datetime.date(2029, 11, 20), datetime.date(2029, 11, 27)), (2029, 12): (datetime.date(2029, 12, 4), datetime.date(2029, 12, 11), datetime.date(2029, 12, 18), datetime.date(2029, 12, 25)), (2030, 1): (datetime.date(2030, 1, 1), datetime.date(2030, 1, 8), datetime.date(2030, 1, 15), datetime.date(2030, 1, 22), datetime.date(2030, 1, 29)), (2030, 2): (datetime.date(2030, 2, 5), datetime.date(2030, 2, 12), datetime.date(2030, 2, 19), datetime.date(2030, 2, 26)), (2030, 3): (datetime.date(2030, 3, 5), datetime.date(2030, 3, 12), datetime.date(2030, 3, 19), datetime.date(2030, 3, 26)), (2030, 4): (datetime.date(2030, 4, 2), datetime.date(2030, 4, 9), datetime.date(2030, 4, 16), datetime.date(2030, 4, 23), datetime.date(2030, 4, 30)), (2030, 5): (datetime.date(2030, 5, 7), datetime.date(2030, 5, 14), datetime.date(2030, 5, 21), datetime.date(2030, 5, 28)), (2030, 6): (datetime.date(2030, 6, 4), datetime.date(2030, 6, 11), datetime.date(2030, 6, 18), datetime.date(2030, 6, 25)), (2030, 7): (datetime.date(2030, 7, 2), datetime.date(2030, 7, 9), datetime.date(2030, 7, 16), datetime.date(2030, 7, 23), datetime.date(2030, 7, 30)), (2030, 8): (datetime.date(2030, 8, 6), datetime.date(2030, 8, 13), datetime.date(2030, 8, 20), datetime.date(2030, 8, 27)), (2030, 9): (datetime.date(2030, 9, 3), datetime.date(2030, 9, 10), datetime.date(2030, 9, 17), datetime.date(2030, 9, 24)), (2030, 10): (datetime.date(2030, 10, 1), datetime.date(2030, 10, 8), datetime.date(2030, 10, 15), datetime.date(2030, 10, 22), datetime.date(2030, 10, 29)), (2030, 11): (datetime.date(2030, 11, 5), datetime.date(2030, 11, 12), datetime.date(2030, 11, 19), datetime.date(2030, 11, 26)), (2030, 12): (datetime.date(2030, 12, 3), datetime.date(2030, 12, 10), datetime.date(2030, 12, 17), datetime.date(2030, 12, 24), datetime.date(2030, 12, 31)), (2031, 1): (datetime.date(2031, 1, 7), datetime.date(2031, 1, 14), datetime.date(2031, 1, 21), datetime.date(2031, 1, 28)), (2031, 2): (datetime.date(2031, 2, 4), datetime.date(2031, 2, 11), datetime.date(2031, 2, 18), datetime.date(2031, 2, 25)), (2031, 3): (datetime.date(2031, 3, 4), datetime.date(2031, 3, 11), datetime.date(2031, 3, 18), datetime.date(2031, 3, 25)), (2031, 4): (datetime.date(2031, 4, 1), datetime.date(2031, 4, 8), datetime.date(2031, 4, 15), datetime.date(2031, 4, 22), datetime.date(2031, 4, 29)), (2031, 5): (datetime.date(2031, 5, 6), datetime.date(2031, 5, 13), datetime.date(2031, 5, 20), datetime.date(2031, 5, 27)), (2031, 6): (datetime.date(2031, 6, 3), datetime.date(2031, 6, 10), datetime.date(2031, 6, 17), datetime.date(2031, 6, 24)), (2031, 7): (datetime.date(2031, 7, 1), datetime.date(2031, 7, 8), datetime.date(2031, 7, 15), datetime.date(2031, 7, 22), datetime.date(2031, 7, 29)), (2031, 8): (datetime.date(2031, 8, 5), datetime.date(2031, 8, 12), datetime.date(2031, 8, 19), datetime.date(2031, 8, 26)), (2031, 9): (datetime.date(2031, 9, 2), datetime.date(2031, 9, 9), datetime.date(2031, 9, 16), datetime.date(2031, 9, 23), datetime.date(2031, 9, 30)), (2031, 10): (datetime.date(2031, 10, 7), datetime.date(2031, 10, 14), datetime.date(2031, 10, 21), datetime.date(2031, 10, 28)), (2031, 11): (datetime.date(2031, 11, 4), datetime.date(2031, 11, 11), datetime.date(2031, 11, 18), datetime.date(2031, 11, 25)), (2031, 12): (datetime.date(2031, 12, 2), datetime.date(2031, 12, 9), datetime.date(2031, 12, 16), datetime.date(2031, 12, 23), datetime.date(2031, 12, 30)), (2032, 1): (datetime.date(2032, 1, 6), datetime.date(2032, 1, 13), datetime.date(2032, 1, 20), datetime.date(2032, 1, 27)), (2032, 2): (datetime.date(2032, 2, 3), datetime.date(2032, 2, 10), datetime.date(2032, 2, 17), datetime.date(2032, 2, 24)), (2032, 3): (datetime.date(2032, 3, 2), datetime.date(2032, 3, 9), datetime.date(2032, 3, 16), datetime.date(2032, 3, 23), datetime.date(2032, 3, 30)), (2032, 4): (datetime.date(2032, 4, 6), datetime.date(2032, 4, 13), datetime.date(2032, 4, 20), datetime.date(2032, 4, 27)), (2032, 5): (datetime.date(2032, 5, 4), datetime.date(2032, 5, 11), datetime.date(2032, 5, 18), datetime.date(2032, 5, 25)), (2032, 6): (datetime.date(2032, 6, 1), datetime.date(2032, 6, 8), datetime.date(2032, 6, 15), datetime.date(2032, 6, 22), datetime.date(2032, 6, 29)), (2032, 7): (datetime.date(2032, 7, 6), datetime.date(2032, 7, 13), datetime.date(2032, 7, 20), datetime.date(2032, 7, 27)), (2032, 8): (datetime.date(2032, 8, 3), datetime.date(2032, 8, 10), datetime.date(2032, 8, 17), datetime.date(2032, 8, 24), datetime.date(2032, 8, 31)), (2032, 9): (datetime.date(2032, 9, 7), datetime.date(2032, 9, 14), datetime.date(2032, 9, 21), datetime.date(2032, 9, 28)), (2032, 10): (datetime.date(2032, 10, 5), datetime.date(2032, 10, 12), datetime.date(2032, 10, 19), datetime.date(2032, 10, 26)), (2032, 11): (datetime.date(2032, 11, 2), datetime.date(2032, 11, 9), datetime.date(2032, 11, 16), datetime.date(2032, 11, 23), datetime.date(2032, 11, 30)), (2032, 12): (datetime.date(2032, 12, 7), datetime.date(2032, 12, 14), datetime.date(2032, 12, 21), datetime.date(2032, 12, 28)), (2033, 1): (datetime.date(2033, 1, 4), datetime.date(2033, 1, 11), datetime.date(2033, 1, 18), datetime.date(2033, 1, 25)), (2033, 2): (datetime.date(2033, 2, 1), datetime.date(2033, 2, 8), datetime.date(2033, 2, 15), datetime.date(2033, 2, 22)), (2033, 3): (datetime.date(2033, 3, 1), datetime.date(2033, 3, 8), datetime.date(2033, 3, 15), datetime.date(2033, 3, 22), datetime.date(2033, 3, 29)), (2033, 4): (datetime.date(2033, 4, 5), datetime.date(2033, 4, 12), datetime.date(2033, 4, 19), datetime.date(2033, 4, 26)), (2033, 5): (datetime.date(2033, 5, 3), datetime.date(2033, 5, 10), datetime.date(2033, 5, 17), datetime.date(2033, 5, 24), datetime.date(2033, 5, 31)), (2033, 6): (datetime.date(2033, 6, 7), datetime.date(2033, 6, 14), datetime.date(2033, 6, 21), datetime.date(2033, 6, 28)), (2033, 7): (datetime.date(2033, 7, 5), datetime.date(2033, 7, 12), datetime.date(2033, 7, 19), datetime.date(2033, 7, 26)), (2033, 8): (datetime.date(2033, 8, 2), datetime.date(2033, 8, 9), datetime.date(2033, 8, 16), datetime.date(2033, 8, 23), datetime.date(2033, 8, 30)), (2033, 9): (datetime.date(2033, 9, 6), datetime.date(2033, 9, 13), datetime.date(2033, 9, 20), datetime.date(2033, 9, 27)), (2033, 10): (datetime.date(2033, 10, 4), datetime.date(2033, 10, 11), datetime.date(2033, 10, 18), datetime.date(2033, 10, 25)), (2033, 11): (datetime.date(2033, 11, 1), datetime.date(2033, 11, 8), datetime.date(2033, 11, 15), datetime.date(2033, 11, 22), datetime.date(2033, 11, 29)), (2033, 12): (datetime.date(2033, 12, 6), datetime.date(2033, 12, 13), datetime.date(2033, 12, 20), datetime.date(2033, 12, 27)), (2034, 1): (datetime.date(2034, 1, 3), datetime.date(2034, 1, 10), datetime.date(2034, 1, 17), datetime.date(2034, 1, 24), datetime.date(2034, 1, 31)), (2034, 2): (datetime.date(2034, 2, 7), datetime.date(2034, 2, 14), datetime.date(2034, 2, 21), datetime.date(2034, 2, 28)), (2034, 3): (datetime.date(2034, 3, 7), datetime.date(2034, 3, 14), datetime.date(2034, 3, 21), datetime.date(2034, 3, 28)), (2034, 4): (datetime.date(2034, 4, 4), datetime.date(2034, 4, 11), datetime.date(2034, 4, 18), datetime.date(2034, 4, 25)), (2034, 5): (datetime.date(2034, 5, 2), datetime.date(2034, 5, 9), datetime.date(2034, 5, 16), datetime.date(2034, 5, 23), datetime.date(2034, 5, 30)), (2034, 6): (datetime.date(2034, 6, 6), datetime.date(2034, 6, 13), datetime.date(2034, 6, 20), datetime.date(2034, 6, 27)), (2034, 7): (datetime.date(2034, 7, 4), datetime.date(2034, 7, 11), datetime.date(2034, 7, 18), datetime.date(2034, 7, 25)), (2034, 8): (datetime.date(2034, 8, 1), datetime.date(2034, 8, 8), datetime.date(2034, 8, 15), datetime.date(2034, 8, 22), datetime.date(2034, 8, 29)), (2034, 9): (datetime.date(2034, 9, 5), datetime.date(2034, 9, 12), datetime.date(2034, 9, 19), datetime.date(2034, 9, 26)), (2034, 10): (datetime.date(2034, 10, 3), datetime.date(2034, 10, 10), datetime.date(2034, 10, 17), datetime.date(2034, 10, 24), datetime.date(2034, 10, 31)), (2034, 11): (datetime.date(2034, 11, 7), datetime.date(2034, 11, 14), datetime.date(2034, 11, 21), datetime.date(2034, 11, 28)), (2034, 12): (datetime.date(2034, 12, 5), datetime.date(2034, 12, 12), datetime.date(2034, 12, 19), datetime.date(2034, 12, 26)), (2035, 1): (datetime.date(2035, 1, 2), datetime.date(2035, 1, 9), datetime.date(2035, 1, 16), datetime.date(2035, 1, 23), datetime.date(2035, 1, 30)), (2035, 2): (datetime.date(2035, 2, 6), datetime.date(2035, 2, 13), datetime.date(2035, 2, 20), datetime.date(2035, 2, 27)), (2035, 3): (datetime.date(2035, 3, 6), datetime.date(2035, 3, 13), datetime.date(2035, 3, 20), datetime.date(2035, 3, 27)), (2035, 4): (datetime.date(2035, 4, 3), datetime.date(2035, 4, 10), datetime.date(2035, 4, 17), datetime.date(2035, 4, 24)), (2035, 5): (datetime.date(2035, 5, 1), datetime.date(2035, 5, 8), datetime.date(2035, 5, 15), datetime.date(2035, 5, 22), datetime.date(2035, 5, 29)), (2035, 6): (datetime.date(2035, 6, 5), datetime.date(2035, 6, 12), datetime.date(2035, 6, 19), datetime.date(2035, 6, 26)), (2035, 7): (datetime.date(2035, 7, 3), datetime.date(2035, 7, 10), datetime.date(2035, 7, 17), datetime.date(2035, 7, 24), datetime.date(2035, 7, 31)), (2035, 8): (datetime.date(2035, 8, 7), datetime.date(2035, 8, 14), datetime.date(2035, 8, 21), datetime.date(2035, 8, 28))}\n"
     ]
    }
   ],
   "source": [
    "tuesdays = []\n",
    "while current_date < planning_horizon:\n",
    "    if current_date.weekday() == TUESDAY:\n",
    "        tuesdays.append(current_date)\n",
    "    current_date += one_day\n",
    "\n",
    "tuesdays_by_month = {(year, month): tuple(tuesday_dates) for (\n",
    "    (year, month), tuesday_dates) in groupby(tuesdays, key=lambda d: (d.year, d.month))}\n",
    "print(tuesdays_by_month)"
   ]
  },
  {
   "cell_type": "code",
   "execution_count": 9,
   "id": "7b8bae79",
   "metadata": {},
   "outputs": [
    {
     "name": "stdout",
     "output_type": "stream",
     "text": [
      "[(2025, 9), (2025, 12), (2026, 3), (2026, 6), (2026, 9), (2026, 12), (2027, 3), (2027, 6), (2027, 8), (2027, 11), (2028, 2), (2028, 5), (2028, 8), (2028, 10), (2029, 1), (2029, 5), (2029, 7), (2029, 10), (2030, 1), (2030, 4), (2030, 7), (2030, 10), (2030, 12), (2031, 4), (2031, 7), (2031, 9), (2031, 12), (2032, 3), (2032, 6), (2032, 8), (2032, 11), (2033, 3), (2033, 5), (2033, 8), (2033, 11), (2034, 1), (2034, 5), (2034, 8), (2034, 10), (2035, 1), (2035, 5), (2035, 7)]\n"
     ]
    }
   ],
   "source": [
    "five_tuesday_months = [k for k, v in tuesdays_by_month.items() if len(v) >= 5]\n",
    "print(five_tuesday_months)"
   ]
  },
  {
   "cell_type": "code",
   "execution_count": 10,
   "id": "96a03f74",
   "metadata": {},
   "outputs": [
    {
     "name": "stdout",
     "output_type": "stream",
     "text": [
      "[datetime.date(2025, 9, 30), datetime.date(2025, 12, 30), datetime.date(2026, 3, 31), datetime.date(2026, 6, 30), datetime.date(2026, 9, 29), datetime.date(2026, 12, 29), datetime.date(2027, 3, 30), datetime.date(2027, 6, 29), datetime.date(2027, 8, 31), datetime.date(2027, 11, 30), datetime.date(2028, 2, 29), datetime.date(2028, 5, 30), datetime.date(2028, 8, 29), datetime.date(2028, 10, 31), datetime.date(2029, 1, 30), datetime.date(2029, 5, 29), datetime.date(2029, 7, 31), datetime.date(2029, 10, 30), datetime.date(2030, 1, 29), datetime.date(2030, 4, 30), datetime.date(2030, 7, 30), datetime.date(2030, 10, 29), datetime.date(2030, 12, 31), datetime.date(2031, 4, 29), datetime.date(2031, 7, 29), datetime.date(2031, 9, 30), datetime.date(2031, 12, 30), datetime.date(2032, 3, 30), datetime.date(2032, 6, 29), datetime.date(2032, 8, 31), datetime.date(2032, 11, 30), datetime.date(2033, 3, 29), datetime.date(2033, 5, 31), datetime.date(2033, 8, 30), datetime.date(2033, 11, 29), datetime.date(2034, 1, 31), datetime.date(2034, 5, 30), datetime.date(2034, 8, 29), datetime.date(2034, 10, 31), datetime.date(2035, 1, 30), datetime.date(2035, 5, 29), datetime.date(2035, 7, 31)]\n"
     ]
    }
   ],
   "source": [
    "five_tuesday_dates = [v[-1]\n",
    "                      for k, v in tuesdays_by_month.items() if len(v) >= 5]\n",
    "print(five_tuesday_dates)"
   ]
  }
 ],
 "metadata": {
  "kernelspec": {
   "display_name": ".env",
   "language": "python",
   "name": "python3"
  },
  "language_info": {
   "codemirror_mode": {
    "name": "ipython",
    "version": 3
   },
   "file_extension": ".py",
   "mimetype": "text/x-python",
   "name": "python",
   "nbconvert_exporter": "python",
   "pygments_lexer": "ipython3",
   "version": "3.12.3"
  }
 },
 "nbformat": 4,
 "nbformat_minor": 5
}
