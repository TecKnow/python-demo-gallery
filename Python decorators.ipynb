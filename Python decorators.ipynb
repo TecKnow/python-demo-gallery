{
 "cells": [
  {
   "cell_type": "markdown",
   "id": "9f9f1854",
   "metadata": {},
   "source": [
    "# Python decorators\n"
   ]
  },
  {
   "cell_type": "markdown",
   "id": "b3eee103",
   "metadata": {},
   "source": [
    "## Sources\n",
    "\n",
    "All good articles on Python decorators look fundamentally the same. One of the best examples is linked below, and if you can you should read it.\n"
   ]
  },
  {
   "cell_type": "markdown",
   "id": "4d5709ae",
   "metadata": {},
   "source": [
    "https://realpython.com/primer-on-python-decorators/\n"
   ]
  },
  {
   "cell_type": "markdown",
   "id": "c948797d",
   "metadata": {},
   "source": [
    "## What are decorators?\n"
   ]
  },
  {
   "cell_type": "markdown",
   "id": "8012cd27",
   "metadata": {},
   "source": [
    "_Decorators_ are a shorthand Python syntax to help programmers - that's you - work with functions that operate on functions. These are called _higher-order functions_. Yes, this means they actually are an example of _syntactic sugar_.\n"
   ]
  },
  {
   "cell_type": "markdown",
   "id": "70a19648",
   "metadata": {},
   "source": [
    "### Why would I want a higher-order function?\n"
   ]
  },
  {
   "cell_type": "markdown",
   "id": "a5149500",
   "metadata": {},
   "source": [
    "Higher-order functions can be a way to reason rigorously about computation and there are entire fields of math, such as _lambda calculus_ that use them in this way. But Python isn't a language for expressing proofs, so by the time we're writing Python we probably aren't concerned with higher-order functions for their mathematical properties.\n"
   ]
  },
  {
   "cell_type": "markdown",
   "id": "1ea38c47",
   "metadata": {},
   "source": [
    "Python has many higher-order functions, presented as decorators, either built in or in the standard library. The `@property` decorator allows a function - really a set of functions - to behave like an attribute. `@staticmethod` and `@classmethod` allow class methods to relate to their classes in special ways. `functools.lru_cache` adds caching to a function. `@contextlib.contextmanager` allows programmers to write _context managers_ using _generator functions_. Libraries like **flask** use decorators like `@app.get()` to associate Python functions with particular routes - combinations of _HTTP verbs_ and URL paths - in the resulting website. These should provide a broad overview of the sorts of things that higher-order functions, and therefore decorators, can do in Python.\n"
   ]
  },
  {
   "cell_type": "markdown",
   "id": "5adfd4fb",
   "metadata": {},
   "source": [
    "## The sugar-free alternative\n"
   ]
  },
  {
   "cell_type": "markdown",
   "id": "8455a098",
   "metadata": {},
   "source": [
    "Any Python function with the right signature can be used as a decorator. Put another way, decorators are just a special way of calling regular Python functions. So, what is the un-special way of doing the same thing?\n"
   ]
  },
  {
   "cell_type": "markdown",
   "id": "93961beb",
   "metadata": {},
   "source": [
    "This will also help illustrate the conventions that will be used to help us keep track of things in this notebook.\n"
   ]
  },
  {
   "cell_type": "markdown",
   "id": "59e3b467",
   "metadata": {},
   "source": [
    "### Minimal working sugar-free example\n"
   ]
  },
  {
   "cell_type": "code",
   "execution_count": 66,
   "id": "2b20839d",
   "metadata": {},
   "outputs": [
    {
     "name": "stdout",
     "output_type": "stream",
     "text": [
      "Starting factory function\n",
      "Finishing factory function by returning the new wrapper\n"
     ]
    }
   ],
   "source": [
    "def factory_function(function_to_wrap):\n",
    "    print(\"Starting factory function\")\n",
    "\n",
    "    def wrapper_func():\n",
    "        print(\"Inside wrapper before calling wrapped function\")\n",
    "        function_to_wrap()\n",
    "        print(\"Inside wrapper after calling wrapped function\")\n",
    "    print(\"Finishing factory function by returning the new wrapper\")\n",
    "    return wrapper_func\n",
    "\n",
    "\n",
    "def original_function():\n",
    "    print(\"Inside original function\")\n",
    "\n",
    "\n",
    "original_function = factory_function(original_function)"
   ]
  },
  {
   "cell_type": "markdown",
   "id": "4cb6fe96",
   "metadata": {},
   "source": [
    "Here is the output of the above code block on my machine:\n",
    "\n",
    "```python console\n",
    "Starting factory function\n",
    "Finishing factory function by returning the new wrapper\n",
    "```\n"
   ]
  },
  {
   "cell_type": "code",
   "execution_count": 67,
   "id": "55c76659",
   "metadata": {},
   "outputs": [
    {
     "name": "stdout",
     "output_type": "stream",
     "text": [
      "Inside wrapper before calling wrapped function\n",
      "Inside original function\n",
      "Inside wrapper after calling wrapped function\n"
     ]
    }
   ],
   "source": [
    "original_function()"
   ]
  },
  {
   "cell_type": "markdown",
   "id": "e90f8f67",
   "metadata": {},
   "source": [
    "Here is the output of the above code block on my machine:\n",
    "\n",
    "```python console\n",
    "Inside wrapper before calling wrapped function\n",
    "Inside original function\n",
    "Inside wrapper after calling wrapped function\n",
    "```\n"
   ]
  },
  {
   "cell_type": "markdown",
   "id": "31302a1e",
   "metadata": {},
   "source": [
    "### What just happened?\n"
   ]
  },
  {
   "cell_type": "markdown",
   "id": "3a43b672",
   "metadata": {},
   "source": [
    "In this example, `factory_function()` is operating as a decorator. I created `original_function()` but then replaced it with the return value of `factory_function()`.\n"
   ]
  },
  {
   "cell_type": "markdown",
   "id": "c644d72b",
   "metadata": {},
   "source": [
    "#### Important things to note:\n"
   ]
  },
  {
   "cell_type": "markdown",
   "id": "75ee83e8",
   "metadata": {},
   "source": [
    "- `factory_function()` - our decorator - only runs one time.\n",
    "- The factory function returns an _inner function_ called `wrapper_func()`.\n",
    "- `wrapper_func()` retains a reference to the original function through _closure_.\n",
    "- `wrapper_func()` replaces `original_function()`.\n",
    "- When the user calls the decorated `original_function()` it is `wrapper_func()` that's called each time.\n",
    "- `wrapper_func()` then goes on to call `original_function()`\n"
   ]
  },
  {
   "cell_type": "markdown",
   "id": "62dd28e2",
   "metadata": {},
   "source": [
    "#### Python def is combined initializer and assignment statement\n"
   ]
  },
  {
   "cell_type": "markdown",
   "id": "adcdb084",
   "metadata": {},
   "source": [
    "Both the sugar-free example above and the special decorator syntax work because the def statement isn't as special as it might first appear.\n",
    "\n",
    "It's common to see Python statements like the following:\n",
    "\n",
    "```python\n",
    "my_variable = [\"foo\", \"bar\", \"baz\"]\n",
    "```\n",
    "\n",
    "When we see this, we understand that this single statement is really dealing with two things: The variable named `my_variable` and the list object `[\"foo\", \"bar\", \"baz\"]`. We could go on to operate on these things separately. We might change the list, or assign it to an additonal variable name. We might reassign the variable name to a float, a string, a new list, or anything else.\n",
    "\n",
    "The python `def` statement works just like the assignment statement above, it only looks a little different. `def foo()` creates a function - which in Python is just one type of object - and assigns that function to the variable `foo`. And we're free to pass around that function object and reassign that variable name, just like we can in the list example.\n",
    "\n",
    "So, we pass the function object into the factory function, and reassign the variable name to the result.\n"
   ]
  },
  {
   "cell_type": "markdown",
   "id": "3025b74b",
   "metadata": {},
   "source": [
    "## Minimal working sugared example\n"
   ]
  },
  {
   "cell_type": "code",
   "execution_count": 68,
   "id": "8180b8aa",
   "metadata": {},
   "outputs": [],
   "source": [
    "def decorator_function(function_to_decorate):\n",
    "    print(\"Starting decorator function\")\n",
    "\n",
    "    def wrapper_function():\n",
    "        print(\"Inside wrapper function before calling wrapped function\")\n",
    "        function_to_decorate()\n",
    "        print(\"Inside wrapper function before calling wrapped function\")\n",
    "    print(\"Finishing decorator function by returning new wrapper\")\n",
    "    return wrapper_function"
   ]
  },
  {
   "cell_type": "code",
   "execution_count": 69,
   "id": "8415a203",
   "metadata": {},
   "outputs": [
    {
     "name": "stdout",
     "output_type": "stream",
     "text": [
      "Starting decorator function\n",
      "Finishing decorator function by returning new wrapper\n"
     ]
    }
   ],
   "source": [
    "@decorator_function\n",
    "def function_to_decorate():\n",
    "    print(\"Inside function to decorate\")"
   ]
  },
  {
   "cell_type": "markdown",
   "id": "0d2e9f37",
   "metadata": {},
   "source": [
    "Here are the results of running the above code block on my machine:\n",
    "\n",
    "```python console\n",
    "Starting decorator function\n",
    "Finishing decorator function by returning new wrapper\n",
    "```\n"
   ]
  },
  {
   "cell_type": "code",
   "execution_count": 70,
   "id": "b590de55",
   "metadata": {},
   "outputs": [
    {
     "name": "stdout",
     "output_type": "stream",
     "text": [
      "Inside wrapper function before calling wrapped function\n",
      "Inside function to decorate\n",
      "Inside wrapper function before calling wrapped function\n"
     ]
    }
   ],
   "source": [
    "function_to_decorate()"
   ]
  },
  {
   "cell_type": "markdown",
   "id": "70d20a7a",
   "metadata": {},
   "source": [
    "Here are the results of running the above code block on my machine:\n",
    "\n",
    "```python console\n",
    "Inside wrapper function before calling wrapped function\n",
    "Inside function to decorate\n",
    "Inside wrapper function before calling wrapped function\n",
    "```\n"
   ]
  },
  {
   "cell_type": "markdown",
   "id": "5b57a9ce",
   "metadata": {},
   "source": [
    "### What is the special syntax buying us?\n"
   ]
  },
  {
   "cell_type": "markdown",
   "id": "51dd18b1",
   "metadata": {},
   "source": [
    "If you inspect the above output you'll see that it's fundamentally the same as the example above that doesn't use the special decorator syntax. That's the ideal for syntactic sugar. The programmer could always choose not to use it. But the decorator syntax helps us communicate our intentions, makes the code easier to read, and saves repettition, so we should generally use it.\n"
   ]
  },
  {
   "cell_type": "markdown",
   "id": "f02e1316",
   "metadata": {},
   "source": [
    "Surprisingly, the decorator syntax only replaces one line in the sugar-free example, this one:\n",
    "\n",
    "```python\n",
    "original_function = factory_function(original_function)\n",
    "```\n",
    "\n",
    "In what ways is it helping? Well, this variable reassignment could be done anywhere, but the decorator syntax really only works above the definition of the function to be decorated. This minimizes spooky action at a distance. Additionally, particularly when applying decorators that themselves accept arguments, the non-sugared syntax looks highly unusual for Python and can be difficult to follow. For example, it creates situations where parenthesis immediately follow parenthessis, like this:\n",
    "\n",
    "```python\n",
    "decorated_function = decorator_that_takes_arguments(*args_to_decorator)(original_function)\n",
    "```\n",
    "\n",
    "This works because the function call `decorator_that_takes_arguments(*args_to_decorator)` returns a function, which the second set of parenthesis are immediately calling. Some languages, like JavaScript, embrace this sort of syntax but Python really does not.\n"
   ]
  },
  {
   "cell_type": "markdown",
   "id": "b2bc2c4a",
   "metadata": {},
   "source": [
    "## Helpful analogy\n",
    "\n",
    "Decorators are functions that themselves accept and return functions. This can be difficult to remember. Think of it like decorating a Christmas tree. You have an original object which is just a log you've brought inside for some reason. Then you apply decorations to turn it into a centerpiece of festivities. The decorator - a person - performs the transformation but isn't a part of either the original or the decorated tree and doesn't have to stick around.\n"
   ]
  },
  {
   "cell_type": "markdown",
   "id": "eb518e75",
   "metadata": {},
   "source": [
    "## Some things that don't work\n"
   ]
  },
  {
   "cell_type": "markdown",
   "id": "2464001d",
   "metadata": {},
   "source": [
    "You might wonder if it's really necessary to bother with closures and returning an inner function. Even if you don't, forgetting this convolution is one of the most common mistakes when writing a decorator in a hurry. Let's try it and see what happens.\n"
   ]
  },
  {
   "cell_type": "code",
   "execution_count": 71,
   "id": "1d7530d3",
   "metadata": {},
   "outputs": [],
   "source": [
    "def hasty_decorator(function_to_decorate):\n",
    "    print(\"Inside decorator function before calling original function\")\n",
    "    function_to_decorate()\n",
    "    print(\"Inside decorator funcction after calling original function\")"
   ]
  },
  {
   "cell_type": "code",
   "execution_count": 72,
   "id": "4b93227b",
   "metadata": {},
   "outputs": [
    {
     "name": "stdout",
     "output_type": "stream",
     "text": [
      "Inside decorator function before calling original function\n",
      "inside original function\n",
      "Inside decorator funcction after calling original function\n"
     ]
    }
   ],
   "source": [
    "@hasty_decorator\n",
    "def base_function():\n",
    "    print(\"inside original function\")"
   ]
  },
  {
   "cell_type": "markdown",
   "id": "65159b92",
   "metadata": {},
   "source": [
    "Here are the results of running the above code block on my machine:\n",
    "\n",
    "```python console\n",
    "Inside decorator function before calling original function\n",
    "inside original function\n",
    "Inside decorator funcction after calling original function\n",
    "```\n"
   ]
  },
  {
   "cell_type": "code",
   "execution_count": 73,
   "id": "0c3c4272",
   "metadata": {
    "tags": [
     "raises-exception"
    ]
   },
   "outputs": [
    {
     "ename": "TypeError",
     "evalue": "'NoneType' object is not callable",
     "output_type": "error",
     "traceback": [
      "\u001b[31m---------------------------------------------------------------------------\u001b[39m",
      "\u001b[31mTypeError\u001b[39m                                 Traceback (most recent call last)",
      "\u001b[36mCell\u001b[39m\u001b[36m \u001b[39m\u001b[32mIn[73]\u001b[39m\u001b[32m, line 1\u001b[39m\n\u001b[32m----> \u001b[39m\u001b[32m1\u001b[39m \u001b[43mbase_function\u001b[49m\u001b[43m(\u001b[49m\u001b[43m)\u001b[49m\n",
      "\u001b[31mTypeError\u001b[39m: 'NoneType' object is not callable"
     ]
    }
   ],
   "source": [
    "base_function()"
   ]
  },
  {
   "cell_type": "markdown",
   "id": "6486abc1",
   "metadata": {},
   "source": [
    "Here are the results of running the above code block on my machine:\n",
    "\n",
    "```python traceback\n",
    "---------------------------------------------------------------------------\n",
    "TypeError                                 Traceback (most recent call last)\n",
    "Cell In[65], line 1\n",
    "----> 1 base_function()\n",
    "\n",
    "TypeError: 'NoneType' object is not callable\n",
    "```\n"
   ]
  },
  {
   "cell_type": "markdown",
   "id": "ef2e0294",
   "metadata": {},
   "source": [
    "This doesn't work because the function being used as a decorator doesn't return a function. Without a return statement it returns `None` by default. But even if I returned the results of calling the original function, this most likely wouldn't be a function either.\n"
   ]
  },
  {
   "cell_type": "markdown",
   "id": "bbb5b208",
   "metadata": {},
   "source": [
    "## Closures and learning to live with them"
   ]
  },
  {
   "cell_type": "markdown",
   "id": "73b804bf",
   "metadata": {},
   "source": [
    "## Decorating functions that return a value"
   ]
  },
  {
   "cell_type": "markdown",
   "id": "a0394dbd",
   "metadata": {},
   "source": [
    "## Decorating functions that take arguments"
   ]
  },
  {
   "cell_type": "markdown",
   "id": "597fbd92",
   "metadata": {},
   "source": [
    "## Decorators that take arguments"
   ]
  },
  {
   "cell_type": "markdown",
   "id": "2e613db7",
   "metadata": {},
   "source": [
    "## Stacking decorators"
   ]
  },
  {
   "cell_type": "markdown",
   "id": "39d7ebfc",
   "metadata": {},
   "source": [
    "## Decorating classes"
   ]
  },
  {
   "cell_type": "markdown",
   "id": "59803bcc",
   "metadata": {},
   "source": [
    "## Classes as decorators"
   ]
  },
  {
   "cell_type": "markdown",
   "id": "05f466c7",
   "metadata": {},
   "source": []
  }
 ],
 "metadata": {
  "kernelspec": {
   "display_name": ".venv",
   "language": "python",
   "name": "python3"
  },
  "language_info": {
   "codemirror_mode": {
    "name": "ipython",
    "version": 3
   },
   "file_extension": ".py",
   "mimetype": "text/x-python",
   "name": "python",
   "nbconvert_exporter": "python",
   "pygments_lexer": "ipython3",
   "version": "3.12.3"
  }
 },
 "nbformat": 4,
 "nbformat_minor": 5
}
