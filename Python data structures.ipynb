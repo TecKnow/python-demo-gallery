{
 "cells": [
  {
   "cell_type": "code",
   "execution_count": null,
   "id": "5aa33736",
   "metadata": {},
   "outputs": [],
   "source": [
    "from pprint import pprint\n",
    "from itertools import groupby"
   ]
  },
  {
   "cell_type": "markdown",
   "id": "7dcbe2c7",
   "metadata": {},
   "source": [
    "# Python data structures"
   ]
  },
  {
   "cell_type": "markdown",
   "id": "8419eca4",
   "metadata": {},
   "source": [
    "Here are the topics that need to be covered:\n",
    "1. Python data structure hetereogeneity\n",
    "2. Immutability\n",
    "3. Unpacking"
   ]
  },
  {
   "cell_type": "markdown",
   "id": "2b3af118",
   "metadata": {},
   "source": [
    "## Flexibility"
   ]
  },
  {
   "cell_type": "markdown",
   "id": "00fea6af",
   "metadata": {},
   "source": [
    "Python data structures prioritize flexibility.  If something might work, then it probably will work even if it makes the data structure more complex or difficult to use going forward.\n",
    "\n",
    "Other languages like C++ prioritize speed and minimizing the potential for runtime errors."
   ]
  },
  {
   "cell_type": "markdown",
   "id": "8d2dd4da",
   "metadata": {},
   "source": [
    "### Heterogeneity"
   ]
  },
  {
   "cell_type": "markdown",
   "id": "394ee677",
   "metadata": {},
   "source": [
    "#### Sequences (lists and tuples)"
   ]
  },
  {
   "cell_type": "markdown",
   "id": "4b27aee1",
   "metadata": {},
   "source": [
    "In some strictly type-checked languages like C++ a vector of integers is different from a vector of strings.  Vectors and arrays can contain only a single data type, and the compiler enforces this.  This is part of prioritizing the prevention of runtime errors as I described above.  Python prioritizes flexiblity, so lists can contain a mixture of types."
   ]
  },
  {
   "cell_type": "code",
   "execution_count": 1119,
   "id": "59fe4b8a",
   "metadata": {},
   "outputs": [
    {
     "name": "stdout",
     "output_type": "stream",
     "text": [
      "('Alice', 1234, 'Sesame ST')\n"
     ]
    }
   ],
   "source": [
    "mixed_tuple = (\"Alice\", 1234, \"Sesame ST\")\n",
    "pprint(mixed_tuple)"
   ]
  },
  {
   "cell_type": "code",
   "execution_count": 1120,
   "id": "b67de2e7",
   "metadata": {},
   "outputs": [
    {
     "name": "stdout",
     "output_type": "stream",
     "text": [
      "('Bob', '515-555-9955', False)\n"
     ]
    }
   ],
   "source": [
    "another_mixed_tuple = (\"Bob\", \"515-555-9955\", False)\n",
    "pprint(another_mixed_tuple)"
   ]
  },
  {
   "cell_type": "markdown",
   "id": "e134a6ac",
   "metadata": {},
   "source": [
    "This arbitariness can run arbitrarily deep, as well."
   ]
  },
  {
   "cell_type": "code",
   "execution_count": 1121,
   "id": "be827e57",
   "metadata": {},
   "outputs": [
    {
     "name": "stdout",
     "output_type": "stream",
     "text": [
      "[('Alice', 1234, 'Sesame ST'), ('Bob', '515-555-9955', False), 'Charlie']\n"
     ]
    }
   ],
   "source": [
    "confounding_list = [mixed_tuple, another_mixed_tuple, \"Charlie\"]\n",
    "pprint(confounding_list)"
   ]
  },
  {
   "cell_type": "markdown",
   "id": "79f0fba3",
   "metadata": {},
   "source": [
    "#### Mapping (dicts)"
   ]
  },
  {
   "cell_type": "markdown",
   "id": "832a9671",
   "metadata": {},
   "source": [
    "Mappings like dictionaries can even have keys of mixed types.  And of course the values can be mixed as well."
   ]
  },
  {
   "cell_type": "code",
   "execution_count": 1122,
   "id": "1e200c47",
   "metadata": {},
   "outputs": [
    {
     "name": "stdout",
     "output_type": "stream",
     "text": [
      "{0: 'Dan',\n",
      " 1: 'Eric',\n",
      " 'Alice': ('Alice', 1234, 'Sesame ST'),\n",
      " 'Bob': ('Bob', '515-555-9955', False),\n",
      " 'everyone': [('Alice', 1234, 'Sesame ST'),\n",
      "              ('Bob', '515-555-9955', False),\n",
      "              'Charlie']}\n"
     ]
    }
   ],
   "source": [
    "mixed_dict = {0: \"Dan\",\n",
    "              1: \"Eric\",\n",
    "              \"Alice\": mixed_tuple,\n",
    "              \"Bob\": another_mixed_tuple,\n",
    "              \"everyone\": confounding_list}\n",
    "pprint(mixed_dict)"
   ]
  },
  {
   "cell_type": "markdown",
   "id": "34a45973",
   "metadata": {},
   "source": [
    "Although you sometimes see this done intentionally, it's also easy to do by accident.  The string \"1\" and the integer 1 are of different types."
   ]
  },
  {
   "cell_type": "markdown",
   "id": "a9931521",
   "metadata": {},
   "source": [
    "#### Where would I see this in practice?"
   ]
  },
  {
   "cell_type": "markdown",
   "id": "b52fcabb",
   "metadata": {},
   "source": [
    "Positional data strucutres are very common.  You might have an address book where the first element of every entry is the name, the second is their address, the third is their phone number, and so on.  Some languages might represent these with special objects, like structs, but Python just uses lists and tuples unless there's a particular reason not to do so.  Tuples, and espeically named tuples, tend to assume that position is significant.  Built in functions like `zip()` are designed for manipulation positional data."
   ]
  },
  {
   "cell_type": "markdown",
   "id": "84f76e65",
   "metadata": {},
   "source": [
    "## Immutability"
   ]
  },
  {
   "cell_type": "markdown",
   "id": "36db6835",
   "metadata": {},
   "source": [
    "Certain types, namely numeric types like integers and floats, strings, and tuples are immutable in Python.  This means that once they've been created they can't be changed.  However, each of these categories handles immutability slightly differently.  The most likely place for this to trip someone up is the overlap between tuples, which are immutable, and lists, which are mutable."
   ]
  },
  {
   "cell_type": "markdown",
   "id": "b1220485",
   "metadata": {},
   "source": [
    "### Mutability for comparison"
   ]
  },
  {
   "cell_type": "markdown",
   "id": "1a762838",
   "metadata": {},
   "source": [
    "Fist lets take a look at mutable behavior.  This means that an object can change after it is created.  It also means that anyone with a reference to that object will see those changes.  THis can be confusing when they think they have a copy!"
   ]
  },
  {
   "cell_type": "code",
   "execution_count": 1123,
   "id": "582419a1",
   "metadata": {},
   "outputs": [],
   "source": [
    "my_list = [\"one\", \"two\", \"three\"]\n",
    "your_list = my_list"
   ]
  },
  {
   "cell_type": "code",
   "execution_count": 1124,
   "id": "61ca7b8c",
   "metadata": {},
   "outputs": [
    {
     "name": "stdout",
     "output_type": "stream",
     "text": [
      "Initial lists\n",
      "My list:\n",
      "['one', 'two', 'three']\n",
      "\n",
      "Your list\n",
      "['one', 'two', 'three']\n"
     ]
    }
   ],
   "source": [
    "print(\"Initial lists\")\n",
    "print(\"My list:\")\n",
    "pprint(my_list)\n",
    "print()\n",
    "print(\"Your list\")\n",
    "pprint(your_list)"
   ]
  },
  {
   "cell_type": "code",
   "execution_count": 1125,
   "id": "dbcc707a",
   "metadata": {},
   "outputs": [],
   "source": [
    "my_list.append(4)"
   ]
  },
  {
   "cell_type": "code",
   "execution_count": 1126,
   "id": "6ac00f5c",
   "metadata": {},
   "outputs": [
    {
     "name": "stdout",
     "output_type": "stream",
     "text": [
      "After adding to my list\n",
      "My list:\n",
      "['one', 'two', 'three', 4]\n",
      "\n",
      "Your list\n",
      "['one', 'two', 'three', 4]\n"
     ]
    }
   ],
   "source": [
    "print(\"After adding to my list\")\n",
    "print(\"My list:\")\n",
    "pprint(my_list)\n",
    "print()\n",
    "print(\"Your list\")\n",
    "pprint(your_list)"
   ]
  },
  {
   "cell_type": "code",
   "execution_count": 1127,
   "id": "a888bf07",
   "metadata": {},
   "outputs": [],
   "source": [
    "your_list[1] = 2"
   ]
  },
  {
   "cell_type": "code",
   "execution_count": 1128,
   "id": "521c7fc3",
   "metadata": {},
   "outputs": [
    {
     "name": "stdout",
     "output_type": "stream",
     "text": [
      "After changing your list\n",
      "My list:\n",
      "['one', 2, 'three', 4]\n",
      "\n",
      "Your list\n",
      "['one', 2, 'three', 4]\n"
     ]
    }
   ],
   "source": [
    "print(\"After changing your list\")\n",
    "print(\"My list:\")\n",
    "pprint(my_list)\n",
    "print()\n",
    "print(\"Your list\")\n",
    "pprint(your_list)"
   ]
  },
  {
   "cell_type": "markdown",
   "id": "d7715ea8",
   "metadata": {},
   "source": [
    "In the above example, `my_list` and `your_list` both refer to the same list."
   ]
  },
  {
   "cell_type": "markdown",
   "id": "86b342f5",
   "metadata": {},
   "source": [
    "#### Checking for identical references"
   ]
  },
  {
   "cell_type": "markdown",
   "id": "0a93205b",
   "metadata": {},
   "source": [
    "Is there a way to check if two variables refer to the same object and will change together, like the lists in the example above?  Yes.  This is what the `is` keyword does.  The `is` keyword returns true if two variables point to the same object.  Note that this has some pitfalls when interacting with immutable object, which I will cover later."
   ]
  },
  {
   "cell_type": "code",
   "execution_count": 1129,
   "id": "556bfebf",
   "metadata": {},
   "outputs": [
    {
     "name": "stdout",
     "output_type": "stream",
     "text": [
      "my_list is your_list=True\n"
     ]
    }
   ],
   "source": [
    "print(f\"{my_list is your_list=}\")"
   ]
  },
  {
   "cell_type": "markdown",
   "id": "e8b8411e",
   "metadata": {},
   "source": [
    "##### A safer alternative"
   ]
  },
  {
   "cell_type": "markdown",
   "id": "f6f9b0df",
   "metadata": {},
   "source": [
    "Because the `is` keyword can give misleading results when dealing with immutable objects, because people are often tempted into treating `is` as a synonym for `==`, and because it's slightly more useful when examining memory management, I tend to use a different pattern.  The `id()` function returns an object's unique identifier."
   ]
  },
  {
   "cell_type": "code",
   "execution_count": 1130,
   "id": "aa8be2f2",
   "metadata": {},
   "outputs": [
    {
     "name": "stdout",
     "output_type": "stream",
     "text": [
      "id(my_list)=140449289498176, id(your_list)=140449289498176\n",
      "id(my_list) == id(your_list)=True\n"
     ]
    }
   ],
   "source": [
    "print(f\"{id(my_list)=}, {id(your_list)=}\")\n",
    "print(f\"{id(my_list) == id(your_list)=}\")"
   ]
  },
  {
   "cell_type": "markdown",
   "id": "4e1c37cf",
   "metadata": {},
   "source": [
    "### Numerical immutability"
   ]
  },
  {
   "cell_type": "markdown",
   "id": "7a918b8f",
   "metadata": {},
   "source": [
    "Lets try the same sort of operations as above on an integer."
   ]
  },
  {
   "cell_type": "code",
   "execution_count": 1131,
   "id": "42ddd361",
   "metadata": {},
   "outputs": [],
   "source": [
    "my_int = 3\n",
    "your_int = my_int"
   ]
  },
  {
   "cell_type": "code",
   "execution_count": 1132,
   "id": "8d2e373f",
   "metadata": {},
   "outputs": [
    {
     "name": "stdout",
     "output_type": "stream",
     "text": [
      "initial numbers\n",
      "my_int=3, your_int=3\n"
     ]
    }
   ],
   "source": [
    "print(\"initial numbers\")\n",
    "print(f\"{my_int=}, {your_int=}\")"
   ]
  },
  {
   "cell_type": "code",
   "execution_count": 1133,
   "id": "ebf2385c",
   "metadata": {},
   "outputs": [],
   "source": [
    "my_int += 1"
   ]
  },
  {
   "cell_type": "code",
   "execution_count": 1134,
   "id": "971c0561",
   "metadata": {},
   "outputs": [
    {
     "name": "stdout",
     "output_type": "stream",
     "text": [
      "After changing my int\n",
      "my_int=4, your_int=3\n"
     ]
    }
   ],
   "source": [
    "print(\"After changing my int\")\n",
    "print(f\"{my_int=}, {your_int=}\")"
   ]
  },
  {
   "cell_type": "code",
   "execution_count": 1135,
   "id": "2787ec88",
   "metadata": {},
   "outputs": [],
   "source": [
    "your_int -= 1"
   ]
  },
  {
   "cell_type": "code",
   "execution_count": 1136,
   "id": "fa2312ce",
   "metadata": {},
   "outputs": [
    {
     "name": "stdout",
     "output_type": "stream",
     "text": [
      "After changing your int\n",
      "my_int=4, your_int=2\n"
     ]
    }
   ],
   "source": [
    "print(\"After changing your int\")\n",
    "print(f\"{my_int=}, {your_int=}\")"
   ]
  },
  {
   "cell_type": "markdown",
   "id": "035dabe3",
   "metadata": {},
   "source": [
    "Despite being defined in ways that are visually identical to the lists, above, the integers don't change together.  In fact, additiona and subtraction don't change the value of the integers either.  Instead, they make a new int, and operations like `+=` update the variable to point to the new integer.  Other numeric types in Python, like floats, work the same way."
   ]
  },
  {
   "cell_type": "markdown",
   "id": "91cd11c7",
   "metadata": {},
   "source": [
    "#### What the trouble with is is"
   ]
  },
  {
   "cell_type": "markdown",
   "id": "94c9305b",
   "metadata": {},
   "source": [
    "I said earlier that some people are tempted into treating the `is` keyword like a synonym for the `==` operator and numeric types are often how they're tempted into doing this.  \n",
    "\n",
    "If you're particularly memory-minded it might occur to you that you don't really need multiple copies of immutable objects, and this is true.  Python does try to reuse immutable objects when it's quick and easy to do so.  For example, some version of Python store constants for commonly used numbers (say, 0 to 100) in easy to find locations so many instances of those numbers will be identical.  So `is` will usually return True.  But this won't work reliably, or at all for arbitrary numbers."
   ]
  },
  {
   "cell_type": "code",
   "execution_count": 1137,
   "id": "f42edd34",
   "metadata": {},
   "outputs": [
    {
     "name": "stdout",
     "output_type": "stream",
     "text": [
      "ordinary_number == another_ordinary_number=True\n",
      "ordinary_number is another_ordinary_number=True\n"
     ]
    }
   ],
   "source": [
    "ordinary_number = 3\n",
    "another_ordinary_number = 3\n",
    "print(f\"{ordinary_number == another_ordinary_number=}\")\n",
    "print(f\"{ordinary_number is another_ordinary_number=}\")"
   ]
  },
  {
   "cell_type": "code",
   "execution_count": 1138,
   "id": "0e884645",
   "metadata": {},
   "outputs": [
    {
     "name": "stdout",
     "output_type": "stream",
     "text": [
      "ordinary_number == division_result=True\n",
      "ordinary_number is division_result=False\n"
     ]
    }
   ],
   "source": [
    "ordinary_number = 3\n",
    "division_result = 21/7\n",
    "print(f\"{ordinary_number == division_result=}\")\n",
    "print(f\"{ordinary_number is division_result=}\")"
   ]
  },
  {
   "cell_type": "code",
   "execution_count": 1139,
   "id": "aa26fd9e",
   "metadata": {},
   "outputs": [
    {
     "name": "stdout",
     "output_type": "stream",
     "text": [
      "meme_number == seconds_per_year=True\n",
      "meme_number is seconds_per_year=False\n"
     ]
    }
   ],
   "source": [
    "meme_number = 31_556_926\n",
    "seconds_per_year = 31_556_926\n",
    "print(f\"{meme_number == seconds_per_year=}\")\n",
    "print(f\"{meme_number is seconds_per_year=}\")"
   ]
  },
  {
   "cell_type": "markdown",
   "id": "1fe50378",
   "metadata": {},
   "source": [
    "### String immutability"
   ]
  },
  {
   "cell_type": "markdown",
   "id": "7b8962ad",
   "metadata": {},
   "source": [
    "Strings are another immutable basic type in Python.  Much like immutable numeric types, anything that looks like it's changing a string is actually creating a new string and updating the variable to point to that."
   ]
  },
  {
   "cell_type": "code",
   "execution_count": 1140,
   "id": "9ed454b7",
   "metadata": {},
   "outputs": [
    {
     "name": "stdout",
     "output_type": "stream",
     "text": [
      "original string: Foo\n",
      "(original_address := id(my_string))=140449748641200\n",
      "string after appending with +=: Foo Bar\n",
      "(updated_address := id(my_string))=140449295414832\n",
      "False\n"
     ]
    }
   ],
   "source": [
    "my_string = \"Foo\"\n",
    "print(f\"original string: {my_string}\")\n",
    "print(f\"{(original_address := id(my_string))=}\")\n",
    "my_string += \" Bar\"\n",
    "print(f\"string after appending with +=: {my_string}\")\n",
    "print(f\"{(updated_address := id(my_string))=}\")\n",
    "print(f\"{original_address == updated_address}\")"
   ]
  },
  {
   "cell_type": "markdown",
   "id": "9471da28",
   "metadata": {},
   "source": [
    "Other languages like C++ encourage the user to treat strings as arrays or vectors of characters.  This means you can change a string with normal array operations.  In Python, if you try to use list semantics to update a string it simply isn't allowed."
   ]
  },
  {
   "cell_type": "code",
   "execution_count": 1141,
   "id": "e037451e",
   "metadata": {
    "tags": [
     "raises-exception"
    ]
   },
   "outputs": [
    {
     "name": "stdout",
     "output_type": "stream",
     "text": [
      "You can access characters in strings with list semantics just fine\n",
      "Found at typo at index -1: p\n",
      "But you aren't allowed to change strings the way you'd change a list\n",
      "Trying to fix typo:\n"
     ]
    },
    {
     "ename": "TypeError",
     "evalue": "'str' object does not support item assignment",
     "output_type": "error",
     "traceback": [
      "\u001b[0;31m---------------------------------------------------------------------------\u001b[0m",
      "\u001b[0;31mTypeError\u001b[0m                                 Traceback (most recent call last)",
      "Cell \u001b[0;32mIn[1141], line 6\u001b[0m\n\u001b[1;32m      4\u001b[0m \u001b[38;5;28mprint\u001b[39m(\u001b[38;5;124m\"\u001b[39m\u001b[38;5;124mBut you aren\u001b[39m\u001b[38;5;124m'\u001b[39m\u001b[38;5;124mt allowed to change strings the way you\u001b[39m\u001b[38;5;124m'\u001b[39m\u001b[38;5;124md change a list\u001b[39m\u001b[38;5;124m\"\u001b[39m)\n\u001b[1;32m      5\u001b[0m \u001b[38;5;28mprint\u001b[39m(\u001b[38;5;124mf\u001b[39m\u001b[38;5;124m\"\u001b[39m\u001b[38;5;124mTrying to fix typo:\u001b[39m\u001b[38;5;124m\"\u001b[39m)\n\u001b[0;32m----> 6\u001b[0m \u001b[43mfavorite_thing_string\u001b[49m\u001b[43m[\u001b[49m\u001b[38;5;241;43m-\u001b[39;49m\u001b[38;5;241;43m1\u001b[39;49m\u001b[43m]\u001b[49m \u001b[38;5;241m=\u001b[39m \u001b[38;5;124m\"\u001b[39m\u001b[38;5;124md\u001b[39m\u001b[38;5;124m\"\u001b[39m\n",
      "\u001b[0;31mTypeError\u001b[0m: 'str' object does not support item assignment"
     ]
    }
   ],
   "source": [
    "favorite_thing_string = \"foop\"\n",
    "print(\"You can access characters in strings with list semantics just fine\")\n",
    "print(f\"Found at typo at index -1: {favorite_thing_string[-1]}\")\n",
    "print(\"But you aren't allowed to change strings the way you'd change a list\")\n",
    "print(f\"Trying to fix typo:\")\n",
    "favorite_thing_string[-1] = \"d\""
   ]
  },
  {
   "cell_type": "markdown",
   "id": "1a1c0f7d",
   "metadata": {},
   "source": [
    "### Tuple immutability"
   ]
  },
  {
   "cell_type": "markdown",
   "id": "1c0aefbf",
   "metadata": {},
   "source": [
    "Tuples are immutable sequences, the immutable counteprart of lists.\n",
    "\n",
    "One of the main pitfalls of tuples is that while they are themselves immutable, the things they contain might not be.  For example, if you have a tuple full of lists then those lists can still be changed."
   ]
  },
  {
   "cell_type": "markdown",
   "id": "ce06deb2",
   "metadata": {},
   "source": [
    "#### A tuple of lists"
   ]
  },
  {
   "cell_type": "code",
   "execution_count": 1142,
   "id": "51c01924",
   "metadata": {},
   "outputs": [
    {
     "name": "stdout",
     "output_type": "stream",
     "text": [
      "(['One'], ['Two'], ['Three'])\n"
     ]
    }
   ],
   "source": [
    "tuple_of_lists = ([\"One\"], [\"Two\"], [\"Three\"])\n",
    "pprint(tuple_of_lists)"
   ]
  },
  {
   "cell_type": "markdown",
   "id": "04d42dac",
   "metadata": {},
   "source": [
    "#### Adding to a tuple returns a new tuple"
   ]
  },
  {
   "cell_type": "markdown",
   "id": "6b386931",
   "metadata": {},
   "source": [
    "Tuples support the addition operator, this behaves like strings and lists, returning a new tuple."
   ]
  },
  {
   "cell_type": "code",
   "execution_count": 1143,
   "id": "4385ebb7",
   "metadata": {},
   "outputs": [],
   "source": [
    "original_tuple_ID = id(tuple_of_lists)\n",
    "extended_tuple = tuple_of_lists + ([\"Four\"],)\n",
    "extended_tuple_id = id(extended_tuple)"
   ]
  },
  {
   "cell_type": "code",
   "execution_count": 1144,
   "id": "d46eaac1",
   "metadata": {},
   "outputs": [
    {
     "name": "stdout",
     "output_type": "stream",
     "text": [
      "tuple_of_lists=(['One'], ['Two'], ['Three'])\n",
      "original_tuple_ID=140449288204160\n",
      "extended_tuple=(['One'], ['Two'], ['Three'], ['Four'])\n",
      "140449287724288\n",
      "original_tuple_ID == extended_tuple_id=False\n"
     ]
    }
   ],
   "source": [
    "print(f\"{tuple_of_lists=}\")\n",
    "print(f\"{original_tuple_ID=}\")\n",
    "print(f\"{extended_tuple=}\")\n",
    "print(f\"{extended_tuple_id}\")\n",
    "print(f\"{original_tuple_ID == extended_tuple_id=}\")"
   ]
  },
  {
   "cell_type": "markdown",
   "id": "3a94d9e1",
   "metadata": {},
   "source": [
    "##### Tuple syntax"
   ]
  },
  {
   "cell_type": "markdown",
   "id": "44702544",
   "metadata": {},
   "source": [
    "You might find the syntax above a bit strange, why did I write `([\"Four\"],)`?  Well, without the comma I just have a list in parenthesis, which is just a list.  It's the presene of a comma that forces Python to evaluate the parenthesis as part of a tuple.  The empty parens `()` signifying the empty tuple are a special case."
   ]
  },
  {
   "cell_type": "code",
   "execution_count": 1145,
   "id": "b7247bd7",
   "metadata": {},
   "outputs": [
    {
     "name": "stdout",
     "output_type": "stream",
     "text": [
      "type(())=<class 'tuple'>\n",
      "type((3))=<class 'int'>\n",
      "type((3,))=<class 'tuple'>\n"
     ]
    }
   ],
   "source": [
    "print(f\"{type(())=}\")\n",
    "print(f\"{type((3))=}\")\n",
    "print(f\"{type((3,))=}\")"
   ]
  },
  {
   "cell_type": "markdown",
   "id": "d0fc4ac6",
   "metadata": {},
   "source": [
    "#### Mutable objects inside tuples are still mutable"
   ]
  },
  {
   "cell_type": "markdown",
   "id": "89ba644e",
   "metadata": {},
   "source": [
    "Although tuples themselves cannot be changed, the things inside them still can be."
   ]
  },
  {
   "cell_type": "code",
   "execution_count": 1146,
   "id": "c450d46f",
   "metadata": {},
   "outputs": [
    {
     "name": "stdout",
     "output_type": "stream",
     "text": [
      "(['One'], ['Two'], ['Three'])\n",
      "(['One'], ['Two', 'Four', 'Six', 'Eight'], ['Three'])\n"
     ]
    }
   ],
   "source": [
    "tuple_of_lists = ([\"One\"], [\"Two\"], [\"Three\"])\n",
    "pprint(tuple_of_lists)\n",
    "tuple_of_lists[1].extend([\"Four\", \"Six\", \"Eight\"])\n",
    "pprint(tuple_of_lists)"
   ]
  },
  {
   "cell_type": "markdown",
   "id": "6e162ffa",
   "metadata": {},
   "source": [
    "## Sequence unpacking"
   ]
  },
  {
   "cell_type": "markdown",
   "id": "cbb5a4a3",
   "metadata": {},
   "source": [
    "Python supports multiple assignment through **sequence unpacking**.  If there are multiple variables on the left-hand side of an assignment, Python will try to iterate over whatever is present on the right hand side and try to match them up.  Importantly, Python uses the **iterator protocol** to do this."
   ]
  },
  {
   "cell_type": "markdown",
   "id": "29392991",
   "metadata": {},
   "source": [
    "### A basic example"
   ]
  },
  {
   "cell_type": "code",
   "execution_count": 1147,
   "id": "daa22985",
   "metadata": {},
   "outputs": [
    {
     "name": "stdout",
     "output_type": "stream",
     "text": [
      "a='Alice', b='Bob', c='Charlie'\n"
     ]
    }
   ],
   "source": [
    "a, b, c = [\"Alice\", \"Bob\", \"Charlie\"]\n",
    "print(f\"{a=}, {b=}, {c=}\")"
   ]
  },
  {
   "cell_type": "markdown",
   "id": "4890f175",
   "metadata": {},
   "source": [
    "### The right-hand and left-hand sides have to match"
   ]
  },
  {
   "cell_type": "code",
   "execution_count": 1148,
   "id": "19c7c9af",
   "metadata": {
    "tags": [
     "raises-exception"
    ]
   },
   "outputs": [
    {
     "ename": "ValueError",
     "evalue": "too many values to unpack (expected 2)",
     "output_type": "error",
     "traceback": [
      "\u001b[0;31m---------------------------------------------------------------------------\u001b[0m",
      "\u001b[0;31mValueError\u001b[0m                                Traceback (most recent call last)",
      "Cell \u001b[0;32mIn[1148], line 1\u001b[0m\n\u001b[0;32m----> 1\u001b[0m a, b \u001b[38;5;241m=\u001b[39m [\u001b[38;5;124m\"\u001b[39m\u001b[38;5;124mAlice\u001b[39m\u001b[38;5;124m\"\u001b[39m, \u001b[38;5;124m\"\u001b[39m\u001b[38;5;124mBob\u001b[39m\u001b[38;5;124m\"\u001b[39m, \u001b[38;5;124m\"\u001b[39m\u001b[38;5;124mCharlie\u001b[39m\u001b[38;5;124m\"\u001b[39m]\n",
      "\u001b[0;31mValueError\u001b[0m: too many values to unpack (expected 2)"
     ]
    }
   ],
   "source": [
    "a, b = [\"Alice\", \"Bob\", \"Charlie\"]"
   ]
  },
  {
   "cell_type": "code",
   "execution_count": 1149,
   "id": "403a2902",
   "metadata": {
    "tags": [
     "raises-exception"
    ]
   },
   "outputs": [
    {
     "ename": "ValueError",
     "evalue": "not enough values to unpack (expected 4, got 3)",
     "output_type": "error",
     "traceback": [
      "\u001b[0;31m---------------------------------------------------------------------------\u001b[0m",
      "\u001b[0;31mValueError\u001b[0m                                Traceback (most recent call last)",
      "Cell \u001b[0;32mIn[1149], line 1\u001b[0m\n\u001b[0;32m----> 1\u001b[0m a, b, c, d \u001b[38;5;241m=\u001b[39m [\u001b[38;5;124m\"\u001b[39m\u001b[38;5;124mAlice\u001b[39m\u001b[38;5;124m\"\u001b[39m, \u001b[38;5;124m\"\u001b[39m\u001b[38;5;124mBob\u001b[39m\u001b[38;5;124m\"\u001b[39m, \u001b[38;5;124m\"\u001b[39m\u001b[38;5;124mCharlie\u001b[39m\u001b[38;5;124m\"\u001b[39m]\n",
      "\u001b[0;31mValueError\u001b[0m: not enough values to unpack (expected 4, got 3)"
     ]
    }
   ],
   "source": [
    "a, b, c, d = [\"Alice\", \"Bob\", \"Charlie\"]"
   ]
  },
  {
   "cell_type": "markdown",
   "id": "b5129077",
   "metadata": {},
   "source": [
    "### You can use an asterisk * to absorb extra values"
   ]
  },
  {
   "cell_type": "markdown",
   "id": "2352fffe",
   "metadata": {},
   "source": [
    "You can use an asterisk to absorb extra values.  It doesn't have to come at the end.  That variable will become a list.  It might be empty if there are no spares."
   ]
  },
  {
   "cell_type": "markdown",
   "id": "d32915f5",
   "metadata": {},
   "source": [
    "#### One item in the wildcard still makes it a list"
   ]
  },
  {
   "cell_type": "code",
   "execution_count": 1150,
   "id": "3249dc95",
   "metadata": {},
   "outputs": [
    {
     "name": "stdout",
     "output_type": "stream",
     "text": [
      "a='Alice', b=['Bob'], c='Charlie'\n"
     ]
    }
   ],
   "source": [
    "a, *b, c = [\"Alice\", \"Bob\", \"Charlie\"]\n",
    "print(f\"{a=}, {b=}, {c=}\")"
   ]
  },
  {
   "cell_type": "markdown",
   "id": "b02ec7a7",
   "metadata": {},
   "source": [
    "#### Multiple items"
   ]
  },
  {
   "cell_type": "code",
   "execution_count": 1151,
   "id": "0ab99015",
   "metadata": {},
   "outputs": [
    {
     "name": "stdout",
     "output_type": "stream",
     "text": [
      "a='Alice', b=['Bob', 'Rob'], c='Charlie'\n"
     ]
    }
   ],
   "source": [
    "a, *b, c = [\"Alice\", \"Bob\", \"Rob\", \"Charlie\"]\n",
    "print(f\"{a=}, {b=}, {c=}\")"
   ]
  },
  {
   "cell_type": "markdown",
   "id": "75c2e2b0",
   "metadata": {},
   "source": [
    "#### Zero items"
   ]
  },
  {
   "cell_type": "code",
   "execution_count": 1152,
   "id": "46ea960b",
   "metadata": {},
   "outputs": [
    {
     "name": "stdout",
     "output_type": "stream",
     "text": [
      "a='Alice', b=[], c='Charlie'\n"
     ]
    }
   ],
   "source": [
    "a, *b, c = [\"Alice\", \"Charlie\"]\n",
    "print(f\"{a=}, {b=}, {c=}\")"
   ]
  },
  {
   "cell_type": "markdown",
   "id": "2c47dc8e",
   "metadata": {},
   "source": [
    "#### Trying to have more than one wildcard"
   ]
  },
  {
   "cell_type": "code",
   "execution_count": 1153,
   "id": "43075783",
   "metadata": {
    "tags": [
     "raises-exception"
    ]
   },
   "outputs": [
    {
     "ename": "SyntaxError",
     "evalue": "multiple starred expressions in assignment (3269453192.py, line 1)",
     "output_type": "error",
     "traceback": [
      "\u001b[0;36m  Cell \u001b[0;32mIn[1153], line 1\u001b[0;36m\u001b[0m\n\u001b[0;31m    a, *b, *c = [\"Alice\", \"Bob\", \"Charlie\"]\u001b[0m\n\u001b[0m    ^\u001b[0m\n\u001b[0;31mSyntaxError\u001b[0m\u001b[0;31m:\u001b[0m multiple starred expressions in assignment\n"
     ]
    }
   ],
   "source": [
    "a, *b, *c = [\"Alice\", \"Bob\", \"Charlie\"]\n",
    "print(f\"{a=}, {b=}, {c=}\")"
   ]
  },
  {
   "cell_type": "markdown",
   "id": "053720c4",
   "metadata": {},
   "source": [
    "### The types of unpacked items can be different"
   ]
  },
  {
   "cell_type": "markdown",
   "id": "e33f342e",
   "metadata": {},
   "source": [
    "In the example below, the variable `b` will point to the tuple `(\"Bob\", \"Bobbert\")` while the other variables hold strings."
   ]
  },
  {
   "cell_type": "code",
   "execution_count": 1154,
   "id": "e832731d",
   "metadata": {},
   "outputs": [
    {
     "name": "stdout",
     "output_type": "stream",
     "text": [
      "a='Alice', b=('Bob', 'Bobbert'), c='Charlie'\n"
     ]
    }
   ],
   "source": [
    "\n",
    "a, b, c = [\"Alice\", (\"Bob\", \"Bobbert\"), \"Charlie\"]\n",
    "print(f\"{a=}, {b=}, {c=}\")"
   ]
  },
  {
   "cell_type": "markdown",
   "id": "1eafc459",
   "metadata": {},
   "source": [
    "### Unpacking can be nested"
   ]
  },
  {
   "cell_type": "code",
   "execution_count": 1155,
   "id": "dfca4dd4",
   "metadata": {},
   "outputs": [
    {
     "name": "stdout",
     "output_type": "stream",
     "text": [
      "a='Alice', b='Bob', bb='Bobbert', c='Charlie'\n"
     ]
    }
   ],
   "source": [
    "a, (b, bb), c = [\"Alice\", (\"Bob\", \"Bobbert\"), \"Charlie\"]\n",
    "print(f\"{a=}, {b=}, {bb=}, {c=}\")"
   ]
  },
  {
   "cell_type": "markdown",
   "id": "e12c34f2",
   "metadata": {},
   "source": [
    "In the example above, the unpacking expression expects the tuple, and extracts the values inside of it.  All the rules for the outermost unpacking expression apply to interior ones as well.  They have to match exactly, they can each have a single wildcard, and so on."
   ]
  },
  {
   "cell_type": "markdown",
   "id": "358e386d",
   "metadata": {},
   "source": [
    "### Overusing this feature will make code hard to read"
   ]
  },
  {
   "cell_type": "markdown",
   "id": "1e34a7f4",
   "metadata": {},
   "source": [
    "The unpacking syntax overlaps heavily with **structural pattern matching** where it's much more common to see complex examples.  But outside of that it's not common to see more than one or two levels of nested unpacking.  Remember that unpacking depends on the structures matching exactly, so overusing it can make your code more brittle."
   ]
  },
  {
   "cell_type": "markdown",
   "id": "8da20481",
   "metadata": {},
   "source": [
    "### Pattern matching in looping constructs, a step-by-step example"
   ]
  },
  {
   "cell_type": "markdown",
   "id": "3620dc21",
   "metadata": {},
   "source": [
    "It's important to remember that you're never required to use sequence unpacking if you don't want to.  Since for loops is one of the most common places to see sequence unpacking, let's examine what happens if you don't use it."
   ]
  },
  {
   "cell_type": "markdown",
   "id": "6bb0b161",
   "metadata": {},
   "source": [
    "TODO"
   ]
  }
 ],
 "metadata": {
  "kernelspec": {
   "display_name": ".env",
   "language": "python",
   "name": "python3"
  },
  "language_info": {
   "codemirror_mode": {
    "name": "ipython",
    "version": 3
   },
   "file_extension": ".py",
   "mimetype": "text/x-python",
   "name": "python",
   "nbconvert_exporter": "python",
   "pygments_lexer": "ipython3",
   "version": "3.12.3"
  }
 },
 "nbformat": 4,
 "nbformat_minor": 5
}
